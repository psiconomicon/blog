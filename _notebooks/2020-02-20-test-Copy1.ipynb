{
 "cells": [
  {
   "cell_type": "markdown",
   "metadata": {},
   "source": [
    "# Muestras de infoxicación en Twitter.\n",
    "> Los medios nos estan infoxicando.\n",
    "\n",
    "- toc: true \n",
    "- badges: true\n",
    "- comments: true\n",
    "- author: Victoregb\n",
    "- categories: [opinión, análsis de datos, COVID]\n",
    "- image: images/chart-preview.png"
   ]
  },
  {
   "cell_type": "markdown",
   "metadata": {},
   "source": [
    "Como españoles residiendo en Alemania hay una cosa que nos ha llamado la atención: Lo descuidados que son aqui con las medidas de prevención frente al coronavirus. Cierto es, que el país no se vio tan afectado como España. Ni tampoco por igual en todas partes, en Bavaria (región muy golpeada por la pandemia), se puede ver con asombro como la gente lleva mascarilla por la calle, mientras que en Hamburgo y alrededores la gente apenas las usa y en las zonas donde es obligatoria, como en los transportes públicos, su uso es relativamente laxo.  "
   ]
  },
  {
   "cell_type": "markdown",
   "metadata": {},
   "source": [
    "Nosotros, que vivimos en una zona poco afectada y que hemos vivido el impacto que ha tenido en España a través de nuestras familias y amigos, seguimos tomando precauciones, como mantener una cierta distancia de seguridad. No nos engañemos, la gente nos mira raro.  "
   ]
  },
  {
   "cell_type": "markdown",
   "metadata": {},
   "source": [
    "Sabemos que hay muchas causas que ayudan a explicar las diferencias en el número de contagios. Sin embargo, hay algo que nos ha llamado la atención y sí puede haber una relación entre el papel de los medios de comunicación durante la pandemia y la actitud de la gente.  "
   ]
  },
  {
   "cell_type": "markdown",
   "metadata": {},
   "source": [
    "Sabemos que twiter no es una muestra representativa de la sociedad, pero eso no se aplica necesariamente a las cuentas de los medios de comunicación. He decidido analizar los twits de 8 medios de comunicación de ambos países, tanto liberales como conservadores, así como nacionales y regionales.  "
   ]
  },
  {
   "cell_type": "markdown",
   "metadata": {},
   "source": [
    "Hemos recopilado los twits entre el 01/01/2020 hasta el 31/08/2020 de _El Pais_, _El mundo_, _La Vanguardia_ y _El Norte de Castilla_ como medios en castellano y en Alemán _Die Welt_, _Frankfurter Allgemeine Zeitung_, _Süddeutsche Zeitung_ y el _Thüringer Allgemeine_.  "
   ]
  },
  {
   "cell_type": "markdown",
   "metadata": {},
   "source": [
    "Uno de los retos a tener en cuenta a la hora de analizar el contenido de los twits es que en el idioma alemán hay una gran cantidad de palabras compuestas lo cual puede falsear las gráficas de dispersión, por lo que hay que tenerlo en cuenta a la hora interpretarlas. \n",
    "Así que aqui tenemos el reto, 6 medios de comunicación, 171.107 twits y 1.777.522 palabras. Más o menos. "
   ]
  },
  {
   "cell_type": "markdown",
   "metadata": {},
   "source": [
    "Dicho esto, vamos a poner un poco de contexto. Los datos de contagios y fallecidos los he sacado de la pagina web _Our World in Data_ por lo que puede diferir un poco de los datos oficiales dados por las autonomías. La base de datos luce así:"
   ]
  },
  {
   "cell_type": "code",
   "execution_count": 1,
   "metadata": {},
   "outputs": [
    {
     "data": {
      "text/html": [
       "<div>\n",
       "<style scoped>\n",
       "    .dataframe tbody tr th:only-of-type {\n",
       "        vertical-align: middle;\n",
       "    }\n",
       "\n",
       "    .dataframe tbody tr th {\n",
       "        vertical-align: top;\n",
       "    }\n",
       "\n",
       "    .dataframe thead th {\n",
       "        text-align: right;\n",
       "    }\n",
       "</style>\n",
       "<table border=\"1\" class=\"dataframe\">\n",
       "  <thead>\n",
       "    <tr style=\"text-align: right;\">\n",
       "      <th></th>\n",
       "      <th>date</th>\n",
       "      <th>new_cases_est_ESP</th>\n",
       "      <th>new_deaths_ESP</th>\n",
       "      <th>new_cases_ESP</th>\n",
       "      <th>new_cases_ALE</th>\n",
       "      <th>new_deaths_ALE</th>\n",
       "    </tr>\n",
       "  </thead>\n",
       "  <tbody>\n",
       "    <tr>\n",
       "      <th>0</th>\n",
       "      <td>2019-12-31</td>\n",
       "      <td>0.0</td>\n",
       "      <td>-0.0</td>\n",
       "      <td>0.0</td>\n",
       "      <td>0.0</td>\n",
       "      <td>-0.0</td>\n",
       "    </tr>\n",
       "    <tr>\n",
       "      <th>1</th>\n",
       "      <td>2020-01-01</td>\n",
       "      <td>0.0</td>\n",
       "      <td>-0.0</td>\n",
       "      <td>0.0</td>\n",
       "      <td>0.0</td>\n",
       "      <td>-0.0</td>\n",
       "    </tr>\n",
       "    <tr>\n",
       "      <th>2</th>\n",
       "      <td>2020-01-02</td>\n",
       "      <td>0.0</td>\n",
       "      <td>-0.0</td>\n",
       "      <td>0.0</td>\n",
       "      <td>0.0</td>\n",
       "      <td>-0.0</td>\n",
       "    </tr>\n",
       "    <tr>\n",
       "      <th>3</th>\n",
       "      <td>2020-01-03</td>\n",
       "      <td>0.0</td>\n",
       "      <td>-0.0</td>\n",
       "      <td>0.0</td>\n",
       "      <td>0.0</td>\n",
       "      <td>-0.0</td>\n",
       "    </tr>\n",
       "    <tr>\n",
       "      <th>4</th>\n",
       "      <td>2020-01-04</td>\n",
       "      <td>0.0</td>\n",
       "      <td>-0.0</td>\n",
       "      <td>0.0</td>\n",
       "      <td>0.0</td>\n",
       "      <td>-0.0</td>\n",
       "    </tr>\n",
       "  </tbody>\n",
       "</table>\n",
       "</div>"
      ],
      "text/plain": [
       "         date  new_cases_est_ESP  new_deaths_ESP  new_cases_ESP  \\\n",
       "0  2019-12-31                0.0            -0.0            0.0   \n",
       "1  2020-01-01                0.0            -0.0            0.0   \n",
       "2  2020-01-02                0.0            -0.0            0.0   \n",
       "3  2020-01-03                0.0            -0.0            0.0   \n",
       "4  2020-01-04                0.0            -0.0            0.0   \n",
       "\n",
       "   new_cases_ALE  new_deaths_ALE  \n",
       "0            0.0            -0.0  \n",
       "1            0.0            -0.0  \n",
       "2            0.0            -0.0  \n",
       "3            0.0            -0.0  \n",
       "4            0.0            -0.0  "
      ]
     },
     "execution_count": 1,
     "metadata": {},
     "output_type": "execute_result"
    }
   ],
   "source": [
    "#collapse-hide\n",
    "import pandas as pd\n",
    "import altair as alt\n",
    "from altair.expr import datum\n",
    "alt.data_transformers.disable_max_rows()\n",
    "\n",
    "lista_palabras = 'https://raw.githubusercontent.com/psiconomicon/blog/master/assets/lista_palabras.csv'\n",
    "casos_decesos = 'https://raw.githubusercontent.com/psiconomicon/blog/master/assets/casos_decesos.csv'\n",
    "\n",
    "df_palabras = pd.read_csv(lista_palabras, index_col=0)\n",
    "df_casos = pd.read_csv(casos_decesos, index_col=0)\n",
    "\n",
    "df_casos.head()"
   ]
  },
  {
   "cell_type": "markdown",
   "metadata": {},
   "source": [
    "Este grafico muestra los nuevos casos registrados diariamente y la sección en fondo rojo el confinamiento en España. Como podemos la  observar da la sensación de que la segunda ola es ahora tan grande como la primera.  Pero como mostraron datadista esto es un error. Vamos a hacer nuestra propia versión. Gracias al estudio de Seroprevalencia, ahora sabemos que durante la primera ola, sólo detectábamos un contagiado de cada 10. Por suerte, las técnicas han mejorado y estimamos que ahora detectamos a 7 de cada 10. Y eso en que se traduce:\n",
    "Exacto, la nueva estimación es que ahora no estamos ni de lejos tan mal como durante la primera ola. Y si tomamos lo que indicaba Tomas Pueyo, el confinamiento fue el martillo para doblar la curva, y ahora estamos viviendo la danza."
   ]
  },
  {
   "cell_type": "code",
   "execution_count": 2,
   "metadata": {},
   "outputs": [
    {
     "data": {
      "text/html": [
       "\n",
       "<div id=\"altair-viz-36e2dfac13db4f01beda8f95d7ef1686\"></div>\n",
       "<script type=\"text/javascript\">\n",
       "  (function(spec, embedOpt){\n",
       "    let outputDiv = document.currentScript.previousElementSibling;\n",
       "    if (outputDiv.id !== \"altair-viz-36e2dfac13db4f01beda8f95d7ef1686\") {\n",
       "      outputDiv = document.getElementById(\"altair-viz-36e2dfac13db4f01beda8f95d7ef1686\");\n",
       "    }\n",
       "    const paths = {\n",
       "      \"vega\": \"https://cdn.jsdelivr.net/npm//vega@5?noext\",\n",
       "      \"vega-lib\": \"https://cdn.jsdelivr.net/npm//vega-lib?noext\",\n",
       "      \"vega-lite\": \"https://cdn.jsdelivr.net/npm//vega-lite@4.8.1?noext\",\n",
       "      \"vega-embed\": \"https://cdn.jsdelivr.net/npm//vega-embed@6?noext\",\n",
       "    };\n",
       "\n",
       "    function loadScript(lib) {\n",
       "      return new Promise(function(resolve, reject) {\n",
       "        var s = document.createElement('script');\n",
       "        s.src = paths[lib];\n",
       "        s.async = true;\n",
       "        s.onload = () => resolve(paths[lib]);\n",
       "        s.onerror = () => reject(`Error loading script: ${paths[lib]}`);\n",
       "        document.getElementsByTagName(\"head\")[0].appendChild(s);\n",
       "      });\n",
       "    }\n",
       "\n",
       "    function showError(err) {\n",
       "      outputDiv.innerHTML = `<div class=\"error\" style=\"color:red;\">${err}</div>`;\n",
       "      throw err;\n",
       "    }\n",
       "\n",
       "    function displayChart(vegaEmbed) {\n",
       "      vegaEmbed(outputDiv, spec, embedOpt)\n",
       "        .catch(err => showError(`Javascript Error: ${err.message}<br>This usually means there's a typo in your chart specification. See the javascript console for the full traceback.`));\n",
       "    }\n",
       "\n",
       "    if(typeof define === \"function\" && define.amd) {\n",
       "      requirejs.config({paths});\n",
       "      require([\"vega-embed\"], displayChart, err => showError(`Error loading script: ${err.message}`));\n",
       "    } else if (typeof vegaEmbed === \"function\") {\n",
       "      displayChart(vegaEmbed);\n",
       "    } else {\n",
       "      loadScript(\"vega\")\n",
       "        .then(() => loadScript(\"vega-lite\"))\n",
       "        .then(() => loadScript(\"vega-embed\"))\n",
       "        .catch(showError)\n",
       "        .then(() => displayChart(vegaEmbed));\n",
       "    }\n",
       "  })({\"config\": {\"view\": {\"continuousWidth\": 400, \"continuousHeight\": 300}}, \"layer\": [{\"layer\": [{\"data\": {\"name\": \"data-14587982c368bd6baf7af57c44db5bf8\"}, \"mark\": {\"type\": \"rect\", \"color\": \"firebrick\", \"opacity\": 0.1}, \"encoding\": {\"x\": {\"type\": \"temporal\", \"field\": \"x_min\"}, \"x2\": {\"field\": \"x_max\"}, \"y\": {\"type\": \"quantitative\", \"field\": \"y_min\"}, \"y2\": {\"field\": \"y_max\"}}, \"selection\": {\"selector001\": {\"type\": \"interval\", \"bind\": \"scales\", \"encodings\": [\"x\", \"y\"]}}}, {\"data\": {\"name\": \"data-25df5efc5daa1c1ae2081cf6b8925268\"}, \"mark\": {\"type\": \"bar\", \"opacity\": 0.1}, \"encoding\": {\"x\": {\"type\": \"temporal\", \"field\": \"date\", \"title\": \"Fecha\"}, \"y\": {\"type\": \"quantitative\", \"field\": \"new_cases_ESP\", \"title\": \"Casos\"}}}, {\"data\": {\"name\": \"data-25df5efc5daa1c1ae2081cf6b8925268\"}, \"mark\": {\"type\": \"bar\", \"color\": \"orange\", \"opacity\": 0.1}, \"encoding\": {\"x\": {\"type\": \"temporal\", \"field\": \"date\", \"title\": \"Fecha\"}, \"y\": {\"type\": \"quantitative\", \"field\": \"new_deaths_ESP\"}}}]}], \"$schema\": \"https://vega.github.io/schema/vega-lite/v4.8.1.json\", \"datasets\": {\"data-14587982c368bd6baf7af57c44db5bf8\": [{\"x_min\": \"2020-03-15 00:00:00\", \"x_max\": \"2020-06-20 00:00:00\", \"y_min\": -2000, \"y_max\": 14000}], \"data-25df5efc5daa1c1ae2081cf6b8925268\": [{\"date\": \"2019-12-31\", \"new_cases_est_ESP\": 0.0, \"new_deaths_ESP\": -0.0, \"new_cases_ESP\": 0.0, \"new_cases_ALE\": 0.0, \"new_deaths_ALE\": -0.0}, {\"date\": \"2020-01-01\", \"new_cases_est_ESP\": 0.0, \"new_deaths_ESP\": -0.0, \"new_cases_ESP\": 0.0, \"new_cases_ALE\": 0.0, \"new_deaths_ALE\": -0.0}, {\"date\": \"2020-01-02\", \"new_cases_est_ESP\": 0.0, \"new_deaths_ESP\": -0.0, \"new_cases_ESP\": 0.0, \"new_cases_ALE\": 0.0, \"new_deaths_ALE\": -0.0}, {\"date\": \"2020-01-03\", \"new_cases_est_ESP\": 0.0, \"new_deaths_ESP\": -0.0, \"new_cases_ESP\": 0.0, \"new_cases_ALE\": 0.0, \"new_deaths_ALE\": -0.0}, {\"date\": \"2020-01-04\", \"new_cases_est_ESP\": 0.0, \"new_deaths_ESP\": -0.0, \"new_cases_ESP\": 0.0, \"new_cases_ALE\": 0.0, \"new_deaths_ALE\": -0.0}, {\"date\": \"2020-01-05\", \"new_cases_est_ESP\": 0.0, \"new_deaths_ESP\": -0.0, \"new_cases_ESP\": 0.0, \"new_cases_ALE\": 0.0, \"new_deaths_ALE\": -0.0}, {\"date\": \"2020-01-06\", \"new_cases_est_ESP\": 0.0, \"new_deaths_ESP\": -0.0, \"new_cases_ESP\": 0.0, \"new_cases_ALE\": 0.0, \"new_deaths_ALE\": -0.0}, {\"date\": \"2020-01-07\", \"new_cases_est_ESP\": 0.0, \"new_deaths_ESP\": -0.0, \"new_cases_ESP\": 0.0, \"new_cases_ALE\": 0.0, \"new_deaths_ALE\": -0.0}, {\"date\": \"2020-01-08\", \"new_cases_est_ESP\": 0.0, \"new_deaths_ESP\": -0.0, \"new_cases_ESP\": 0.0, \"new_cases_ALE\": 0.0, \"new_deaths_ALE\": -0.0}, {\"date\": \"2020-01-09\", \"new_cases_est_ESP\": 0.0, \"new_deaths_ESP\": -0.0, \"new_cases_ESP\": 0.0, \"new_cases_ALE\": 0.0, \"new_deaths_ALE\": -0.0}, {\"date\": \"2020-01-10\", \"new_cases_est_ESP\": 0.0, \"new_deaths_ESP\": -0.0, \"new_cases_ESP\": 0.0, \"new_cases_ALE\": 0.0, \"new_deaths_ALE\": -0.0}, {\"date\": \"2020-01-11\", \"new_cases_est_ESP\": 0.0, \"new_deaths_ESP\": -0.0, \"new_cases_ESP\": 0.0, \"new_cases_ALE\": 0.0, \"new_deaths_ALE\": -0.0}, {\"date\": \"2020-01-12\", \"new_cases_est_ESP\": 0.0, \"new_deaths_ESP\": -0.0, \"new_cases_ESP\": 0.0, \"new_cases_ALE\": 0.0, \"new_deaths_ALE\": -0.0}, {\"date\": \"2020-01-13\", \"new_cases_est_ESP\": 0.0, \"new_deaths_ESP\": -0.0, \"new_cases_ESP\": 0.0, \"new_cases_ALE\": 0.0, \"new_deaths_ALE\": -0.0}, {\"date\": \"2020-01-14\", \"new_cases_est_ESP\": 0.0, \"new_deaths_ESP\": -0.0, \"new_cases_ESP\": 0.0, \"new_cases_ALE\": 0.0, \"new_deaths_ALE\": -0.0}, {\"date\": \"2020-01-15\", \"new_cases_est_ESP\": 0.0, \"new_deaths_ESP\": -0.0, \"new_cases_ESP\": 0.0, \"new_cases_ALE\": 0.0, \"new_deaths_ALE\": -0.0}, {\"date\": \"2020-01-16\", \"new_cases_est_ESP\": 0.0, \"new_deaths_ESP\": -0.0, \"new_cases_ESP\": 0.0, \"new_cases_ALE\": 0.0, \"new_deaths_ALE\": -0.0}, {\"date\": \"2020-01-17\", \"new_cases_est_ESP\": 0.0, \"new_deaths_ESP\": -0.0, \"new_cases_ESP\": 0.0, \"new_cases_ALE\": 0.0, \"new_deaths_ALE\": -0.0}, {\"date\": \"2020-01-18\", \"new_cases_est_ESP\": 0.0, \"new_deaths_ESP\": -0.0, \"new_cases_ESP\": 0.0, \"new_cases_ALE\": 0.0, \"new_deaths_ALE\": -0.0}, {\"date\": \"2020-01-19\", \"new_cases_est_ESP\": 0.0, \"new_deaths_ESP\": -0.0, \"new_cases_ESP\": 0.0, \"new_cases_ALE\": 0.0, \"new_deaths_ALE\": -0.0}, {\"date\": \"2020-01-20\", \"new_cases_est_ESP\": 0.0, \"new_deaths_ESP\": -0.0, \"new_cases_ESP\": 0.0, \"new_cases_ALE\": 0.0, \"new_deaths_ALE\": -0.0}, {\"date\": \"2020-01-21\", \"new_cases_est_ESP\": 0.0, \"new_deaths_ESP\": -0.0, \"new_cases_ESP\": 0.0, \"new_cases_ALE\": 0.0, \"new_deaths_ALE\": -0.0}, {\"date\": \"2020-01-22\", \"new_cases_est_ESP\": 0.0, \"new_deaths_ESP\": -0.0, \"new_cases_ESP\": 0.0, \"new_cases_ALE\": 0.0, \"new_deaths_ALE\": -0.0}, {\"date\": \"2020-01-23\", \"new_cases_est_ESP\": 0.0, \"new_deaths_ESP\": -0.0, \"new_cases_ESP\": 0.0, \"new_cases_ALE\": 0.0, \"new_deaths_ALE\": -0.0}, {\"date\": \"2020-01-24\", \"new_cases_est_ESP\": 0.0, \"new_deaths_ESP\": -0.0, \"new_cases_ESP\": 0.0, \"new_cases_ALE\": 0.0, \"new_deaths_ALE\": -0.0}, {\"date\": \"2020-01-25\", \"new_cases_est_ESP\": 0.0, \"new_deaths_ESP\": -0.0, \"new_cases_ESP\": 0.0, \"new_cases_ALE\": 0.0, \"new_deaths_ALE\": -0.0}, {\"date\": \"2020-01-26\", \"new_cases_est_ESP\": 0.0, \"new_deaths_ESP\": -0.0, \"new_cases_ESP\": 0.0, \"new_cases_ALE\": 0.0, \"new_deaths_ALE\": -0.0}, {\"date\": \"2020-01-27\", \"new_cases_est_ESP\": 0.0, \"new_deaths_ESP\": -0.0, \"new_cases_ESP\": 0.0, \"new_cases_ALE\": 0.0, \"new_deaths_ALE\": -0.0}, {\"date\": \"2020-01-28\", \"new_cases_est_ESP\": 0.0, \"new_deaths_ESP\": -0.0, \"new_cases_ESP\": 0.0, \"new_cases_ALE\": 1.0, \"new_deaths_ALE\": -0.0}, {\"date\": \"2020-01-29\", \"new_cases_est_ESP\": 0.0, \"new_deaths_ESP\": -0.0, \"new_cases_ESP\": 0.0, \"new_cases_ALE\": 3.0, \"new_deaths_ALE\": -0.0}, {\"date\": \"2020-01-30\", \"new_cases_est_ESP\": 0.0, \"new_deaths_ESP\": -0.0, \"new_cases_ESP\": 0.0, \"new_cases_ALE\": 0.0, \"new_deaths_ALE\": -0.0}, {\"date\": \"2020-01-31\", \"new_cases_est_ESP\": 0.0, \"new_deaths_ESP\": -0.0, \"new_cases_ESP\": 0.0, \"new_cases_ALE\": 1.0, \"new_deaths_ALE\": -0.0}, {\"date\": \"2020-02-01\", \"new_cases_est_ESP\": 10.0, \"new_deaths_ESP\": -0.0, \"new_cases_ESP\": 1.0, \"new_cases_ALE\": 2.0, \"new_deaths_ALE\": -0.0}, {\"date\": \"2020-02-02\", \"new_cases_est_ESP\": 0.0, \"new_deaths_ESP\": -0.0, \"new_cases_ESP\": 0.0, \"new_cases_ALE\": 1.0, \"new_deaths_ALE\": -0.0}, {\"date\": \"2020-02-03\", \"new_cases_est_ESP\": 0.0, \"new_deaths_ESP\": -0.0, \"new_cases_ESP\": 0.0, \"new_cases_ALE\": 1.0, \"new_deaths_ALE\": -0.0}, {\"date\": \"2020-02-04\", \"new_cases_est_ESP\": 0.0, \"new_deaths_ESP\": -0.0, \"new_cases_ESP\": 0.0, \"new_cases_ALE\": 2.0, \"new_deaths_ALE\": -0.0}, {\"date\": \"2020-02-05\", \"new_cases_est_ESP\": 0.0, \"new_deaths_ESP\": -0.0, \"new_cases_ESP\": 0.0, \"new_cases_ALE\": 0.0, \"new_deaths_ALE\": -0.0}, {\"date\": \"2020-02-06\", \"new_cases_est_ESP\": 0.0, \"new_deaths_ESP\": -0.0, \"new_cases_ESP\": 0.0, \"new_cases_ALE\": 0.0, \"new_deaths_ALE\": -0.0}, {\"date\": \"2020-02-07\", \"new_cases_est_ESP\": 0.0, \"new_deaths_ESP\": -0.0, \"new_cases_ESP\": 0.0, \"new_cases_ALE\": 1.0, \"new_deaths_ALE\": -0.0}, {\"date\": \"2020-02-08\", \"new_cases_est_ESP\": 0.0, \"new_deaths_ESP\": -0.0, \"new_cases_ESP\": 0.0, \"new_cases_ALE\": 1.0, \"new_deaths_ALE\": -0.0}, {\"date\": \"2020-02-09\", \"new_cases_est_ESP\": 0.0, \"new_deaths_ESP\": -0.0, \"new_cases_ESP\": 0.0, \"new_cases_ALE\": 0.0, \"new_deaths_ALE\": -0.0}, {\"date\": \"2020-02-10\", \"new_cases_est_ESP\": 10.0, \"new_deaths_ESP\": -0.0, \"new_cases_ESP\": 1.0, \"new_cases_ALE\": 0.0, \"new_deaths_ALE\": -0.0}, {\"date\": \"2020-02-11\", \"new_cases_est_ESP\": 0.0, \"new_deaths_ESP\": -0.0, \"new_cases_ESP\": 0.0, \"new_cases_ALE\": 0.0, \"new_deaths_ALE\": -0.0}, {\"date\": \"2020-02-12\", \"new_cases_est_ESP\": 0.0, \"new_deaths_ESP\": -0.0, \"new_cases_ESP\": 0.0, \"new_cases_ALE\": 2.0, \"new_deaths_ALE\": -0.0}, {\"date\": \"2020-02-13\", \"new_cases_est_ESP\": 0.0, \"new_deaths_ESP\": -0.0, \"new_cases_ESP\": 0.0, \"new_cases_ALE\": 0.0, \"new_deaths_ALE\": -0.0}, {\"date\": \"2020-02-14\", \"new_cases_est_ESP\": 0.0, \"new_deaths_ESP\": -0.0, \"new_cases_ESP\": 0.0, \"new_cases_ALE\": 0.0, \"new_deaths_ALE\": -0.0}, {\"date\": \"2020-02-15\", \"new_cases_est_ESP\": 0.0, \"new_deaths_ESP\": -0.0, \"new_cases_ESP\": 0.0, \"new_cases_ALE\": 0.0, \"new_deaths_ALE\": -0.0}, {\"date\": \"2020-02-16\", \"new_cases_est_ESP\": 0.0, \"new_deaths_ESP\": -0.0, \"new_cases_ESP\": 0.0, \"new_cases_ALE\": 0.0, \"new_deaths_ALE\": -0.0}, {\"date\": \"2020-02-17\", \"new_cases_est_ESP\": 0.0, \"new_deaths_ESP\": -0.0, \"new_cases_ESP\": 0.0, \"new_cases_ALE\": 0.0, \"new_deaths_ALE\": -0.0}, {\"date\": \"2020-02-18\", \"new_cases_est_ESP\": 0.0, \"new_deaths_ESP\": -0.0, \"new_cases_ESP\": 0.0, \"new_cases_ALE\": 0.0, \"new_deaths_ALE\": -0.0}, {\"date\": \"2020-02-19\", \"new_cases_est_ESP\": 0.0, \"new_deaths_ESP\": -0.0, \"new_cases_ESP\": 0.0, \"new_cases_ALE\": 0.0, \"new_deaths_ALE\": -0.0}, {\"date\": \"2020-02-20\", \"new_cases_est_ESP\": 0.0, \"new_deaths_ESP\": -0.0, \"new_cases_ESP\": 0.0, \"new_cases_ALE\": 0.0, \"new_deaths_ALE\": -0.0}, {\"date\": \"2020-02-21\", \"new_cases_est_ESP\": 0.0, \"new_deaths_ESP\": -0.0, \"new_cases_ESP\": 0.0, \"new_cases_ALE\": 0.0, \"new_deaths_ALE\": -0.0}, {\"date\": \"2020-02-22\", \"new_cases_est_ESP\": 0.0, \"new_deaths_ESP\": -0.0, \"new_cases_ESP\": 0.0, \"new_cases_ALE\": 0.0, \"new_deaths_ALE\": -0.0}, {\"date\": \"2020-02-23\", \"new_cases_est_ESP\": 0.0, \"new_deaths_ESP\": -0.0, \"new_cases_ESP\": 0.0, \"new_cases_ALE\": 0.0, \"new_deaths_ALE\": -0.0}, {\"date\": \"2020-02-24\", \"new_cases_est_ESP\": 0.0, \"new_deaths_ESP\": -0.0, \"new_cases_ESP\": 0.0, \"new_cases_ALE\": 0.0, \"new_deaths_ALE\": -0.0}, {\"date\": \"2020-02-25\", \"new_cases_est_ESP\": 10.0, \"new_deaths_ESP\": -0.0, \"new_cases_ESP\": 1.0, \"new_cases_ALE\": 0.0, \"new_deaths_ALE\": -0.0}, {\"date\": \"2020-02-26\", \"new_cases_est_ESP\": 60.0, \"new_deaths_ESP\": -0.0, \"new_cases_ESP\": 6.0, \"new_cases_ALE\": 2.0, \"new_deaths_ALE\": -0.0}, {\"date\": \"2020-02-27\", \"new_cases_est_ESP\": 80.0, \"new_deaths_ESP\": -0.0, \"new_cases_ESP\": 8.0, \"new_cases_ALE\": 4.0, \"new_deaths_ALE\": -0.0}, {\"date\": \"2020-02-28\", \"new_cases_est_ESP\": 180.0, \"new_deaths_ESP\": -0.0, \"new_cases_ESP\": 18.0, \"new_cases_ALE\": 26.0, \"new_deaths_ALE\": -0.0}, {\"date\": \"2020-02-29\", \"new_cases_est_ESP\": 190.0, \"new_deaths_ESP\": -0.0, \"new_cases_ESP\": 19.0, \"new_cases_ALE\": 10.0, \"new_deaths_ALE\": -0.0}, {\"date\": \"2020-03-01\", \"new_cases_est_ESP\": 280.0, \"new_deaths_ESP\": -0.0, \"new_cases_ESP\": 28.0, \"new_cases_ALE\": 54.0, \"new_deaths_ALE\": -0.0}, {\"date\": \"2020-03-02\", \"new_cases_est_ESP\": 540.0, \"new_deaths_ESP\": -0.0, \"new_cases_ESP\": 54.0, \"new_cases_ALE\": 18.0, \"new_deaths_ALE\": -0.0}, {\"date\": \"2020-03-03\", \"new_cases_est_ESP\": 560.0, \"new_deaths_ESP\": -0.0, \"new_cases_ESP\": 56.0, \"new_cases_ALE\": 28.0, \"new_deaths_ALE\": -0.0}, {\"date\": \"2020-03-04\", \"new_cases_est_ESP\": 750.0, \"new_deaths_ESP\": -0.0, \"new_cases_ESP\": 75.0, \"new_cases_ALE\": 39.0, \"new_deaths_ALE\": -0.0}, {\"date\": \"2020-03-05\", \"new_cases_est_ESP\": 810.0, \"new_deaths_ESP\": -1.0, \"new_cases_ESP\": 81.0, \"new_cases_ALE\": 66.0, \"new_deaths_ALE\": -0.0}, {\"date\": \"2020-03-06\", \"new_cases_est_ESP\": 1830.0, \"new_deaths_ESP\": -2.0, \"new_cases_ESP\": 183.0, \"new_cases_ALE\": 138.0, \"new_deaths_ALE\": -0.0}, {\"date\": \"2020-03-07\", \"new_cases_est_ESP\": 2330.0, \"new_deaths_ESP\": -2.0, \"new_cases_ESP\": 233.0, \"new_cases_ALE\": 284.0, \"new_deaths_ALE\": -0.0}, {\"date\": \"2020-03-08\", \"new_cases_est_ESP\": 3300.0, \"new_deaths_ESP\": -0.0, \"new_cases_ESP\": 330.0, \"new_cases_ALE\": 163.0, \"new_deaths_ALE\": -0.0}, {\"date\": \"2020-03-09\", \"new_cases_est_ESP\": 4330.0, \"new_deaths_ESP\": -0.0, \"new_cases_ESP\": 433.0, \"new_cases_ALE\": 55.0, \"new_deaths_ALE\": -0.0}, {\"date\": \"2020-03-10\", \"new_cases_est_ESP\": 7720.0, \"new_deaths_ESP\": -23.0, \"new_cases_ESP\": 772.0, \"new_cases_ALE\": 237.0, \"new_deaths_ALE\": -2.0}, {\"date\": \"2020-03-11\", \"new_cases_est_ESP\": 9750.0, \"new_deaths_ESP\": -7.0, \"new_cases_ESP\": 975.0, \"new_cases_ALE\": 157.0, \"new_deaths_ALE\": -0.0}, {\"date\": \"2020-03-12\", \"new_cases_est_ESP\": 11530.0, \"new_deaths_ESP\": -12.0, \"new_cases_ESP\": 1153.0, \"new_cases_ALE\": 271.0, \"new_deaths_ALE\": -1.0}, {\"date\": \"2020-03-13\", \"new_cases_est_ESP\": 15310.0, \"new_deaths_ESP\": -37.0, \"new_cases_ESP\": 1531.0, \"new_cases_ALE\": 802.0, \"new_deaths_ALE\": -2.0}, {\"date\": \"2020-03-14\", \"new_cases_est_ESP\": 16830.0, \"new_deaths_ESP\": -37.0, \"new_cases_ESP\": 1683.0, \"new_cases_ALE\": 693.0, \"new_deaths_ALE\": -0.0}, {\"date\": \"2020-03-15\", \"new_cases_est_ESP\": 21440.0, \"new_deaths_ESP\": -15.0, \"new_cases_ESP\": 2144.0, \"new_cases_ALE\": 733.0, \"new_deaths_ALE\": -3.0}, {\"date\": \"2020-03-16\", \"new_cases_est_ESP\": 17060.0, \"new_deaths_ESP\": -152.0, \"new_cases_ESP\": 1706.0, \"new_cases_ALE\": 1043.0, \"new_deaths_ALE\": -4.0}, {\"date\": \"2020-03-17\", \"new_cases_est_ESP\": 25030.0, \"new_deaths_ESP\": -21.0, \"new_cases_ESP\": 2503.0, \"new_cases_ALE\": 1174.0, \"new_deaths_ALE\": -1.0}, {\"date\": \"2020-03-18\", \"new_cases_est_ESP\": 36940.0, \"new_deaths_ESP\": -182.0, \"new_cases_ESP\": 3694.0, \"new_cases_ALE\": 1144.0, \"new_deaths_ALE\": -0.0}, {\"date\": \"2020-03-19\", \"new_cases_est_ESP\": 40470.0, \"new_deaths_ESP\": -107.0, \"new_cases_ESP\": 4047.0, \"new_cases_ALE\": 1042.0, \"new_deaths_ALE\": -0.0}, {\"date\": \"2020-03-20\", \"new_cases_est_ESP\": 45690.0, \"new_deaths_ESP\": -169.0, \"new_cases_ESP\": 4569.0, \"new_cases_ALE\": 5940.0, \"new_deaths_ALE\": -30.0}, {\"date\": \"2020-03-21\", \"new_cases_est_ESP\": 54460.0, \"new_deaths_ESP\": -235.0, \"new_cases_ESP\": 5446.0, \"new_cases_ALE\": 4049.0, \"new_deaths_ALE\": -2.0}, {\"date\": \"2020-03-22\", \"new_cases_est_ESP\": 48660.0, \"new_deaths_ESP\": -324.0, \"new_cases_ESP\": 4866.0, \"new_cases_ALE\": 3276.0, \"new_deaths_ALE\": -22.0}, {\"date\": \"2020-03-23\", \"new_cases_est_ESP\": 46460.0, \"new_deaths_ESP\": -394.0, \"new_cases_ESP\": 4646.0, \"new_cases_ALE\": 3311.0, \"new_deaths_ALE\": -27.0}, {\"date\": \"2020-03-24\", \"new_cases_est_ESP\": 76910.0, \"new_deaths_ESP\": -462.0, \"new_cases_ESP\": 7691.0, \"new_cases_ALE\": 4438.0, \"new_deaths_ALE\": -32.0}, {\"date\": \"2020-03-25\", \"new_cases_est_ESP\": 85530.0, \"new_deaths_ESP\": -514.0, \"new_cases_ESP\": 8553.0, \"new_cases_ALE\": 2342.0, \"new_deaths_ALE\": -23.0}, {\"date\": \"2020-03-26\", \"new_cases_est_ESP\": 89540.0, \"new_deaths_ESP\": -738.0, \"new_cases_ESP\": 8954.0, \"new_cases_ALE\": 4954.0, \"new_deaths_ALE\": -49.0}, {\"date\": \"2020-03-27\", \"new_cases_est_ESP\": 91810.0, \"new_deaths_ESP\": -655.0, \"new_cases_ESP\": 9181.0, \"new_cases_ALE\": 5780.0, \"new_deaths_ALE\": -55.0}, {\"date\": \"2020-03-28\", \"new_cases_est_ESP\": 82440.0, \"new_deaths_ESP\": -769.0, \"new_cases_ESP\": 8244.0, \"new_cases_ALE\": 6294.0, \"new_deaths_ALE\": -72.0}, {\"date\": \"2020-03-29\", \"new_cases_est_ESP\": 64240.0, \"new_deaths_ESP\": -832.0, \"new_cases_ESP\": 6424.0, \"new_cases_ALE\": 3965.0, \"new_deaths_ALE\": -64.0}, {\"date\": \"2020-03-30\", \"new_cases_est_ESP\": 58130.0, \"new_deaths_ESP\": -838.0, \"new_cases_ESP\": 5813.0, \"new_cases_ALE\": 4751.0, \"new_deaths_ALE\": -66.0}, {\"date\": \"2020-03-31\", \"new_cases_est_ESP\": 81450.0, \"new_deaths_ESP\": -812.0, \"new_cases_ESP\": 8145.0, \"new_cases_ALE\": 4615.0, \"new_deaths_ALE\": -128.0}, {\"date\": \"2020-04-01\", \"new_cases_est_ESP\": 74130.0, \"new_deaths_ESP\": -849.0, \"new_cases_ESP\": 7413.0, \"new_cases_ALE\": 5453.0, \"new_deaths_ALE\": -149.0}, {\"date\": \"2020-04-02\", \"new_cases_est_ESP\": 75830.0, \"new_deaths_ESP\": -864.0, \"new_cases_ESP\": 7583.0, \"new_cases_ALE\": 6156.0, \"new_deaths_ALE\": -140.0}, {\"date\": \"2020-04-03\", \"new_cases_est_ESP\": 72720.0, \"new_deaths_ESP\": -950.0, \"new_cases_ESP\": 7272.0, \"new_cases_ALE\": 6174.0, \"new_deaths_ALE\": -145.0}, {\"date\": \"2020-04-04\", \"new_cases_est_ESP\": 66630.0, \"new_deaths_ESP\": -932.0, \"new_cases_ESP\": 6663.0, \"new_cases_ALE\": 6082.0, \"new_deaths_ALE\": -141.0}, {\"date\": \"2020-04-05\", \"new_cases_est_ESP\": 55330.0, \"new_deaths_ESP\": -809.0, \"new_cases_ESP\": 5533.0, \"new_cases_ALE\": 5936.0, \"new_deaths_ALE\": -184.0}, {\"date\": \"2020-04-06\", \"new_cases_est_ESP\": 36670.0, \"new_deaths_ESP\": -674.0, \"new_cases_ESP\": 3667.0, \"new_cases_ALE\": 3677.0, \"new_deaths_ALE\": -92.0}, {\"date\": \"2020-04-07\", \"new_cases_est_ESP\": 52090.0, \"new_deaths_ESP\": -637.0, \"new_cases_ESP\": 5209.0, \"new_cases_ALE\": 3834.0, \"new_deaths_ALE\": -173.0}, {\"date\": \"2020-04-08\", \"new_cases_est_ESP\": 55830.0, \"new_deaths_ESP\": -743.0, \"new_cases_ESP\": 5583.0, \"new_cases_ALE\": 4003.0, \"new_deaths_ALE\": -254.0}, {\"date\": \"2020-04-09\", \"new_cases_est_ESP\": 57450.0, \"new_deaths_ESP\": -757.0, \"new_cases_ESP\": 5745.0, \"new_cases_ALE\": 4974.0, \"new_deaths_ALE\": -246.0}, {\"date\": \"2020-04-10\", \"new_cases_est_ESP\": 45370.0, \"new_deaths_ESP\": -683.0, \"new_cases_ESP\": 4537.0, \"new_cases_ALE\": 5323.0, \"new_deaths_ALE\": -266.0}, {\"date\": \"2020-04-11\", \"new_cases_est_ESP\": 45500.0, \"new_deaths_ESP\": -605.0, \"new_cases_ESP\": 4550.0, \"new_cases_ALE\": 4133.0, \"new_deaths_ALE\": -171.0}, {\"date\": \"2020-04-12\", \"new_cases_est_ESP\": 38990.0, \"new_deaths_ESP\": -510.0, \"new_cases_ESP\": 3899.0, \"new_cases_ALE\": 2821.0, \"new_deaths_ALE\": -129.0}, {\"date\": \"2020-04-13\", \"new_cases_est_ESP\": 30300.0, \"new_deaths_ESP\": -619.0, \"new_cases_ESP\": 3030.0, \"new_cases_ALE\": 2537.0, \"new_deaths_ALE\": -126.0}, {\"date\": \"2020-04-14\", \"new_cases_est_ESP\": 31160.0, \"new_deaths_ESP\": -517.0, \"new_cases_ESP\": 3116.0, \"new_cases_ALE\": 2082.0, \"new_deaths_ALE\": -170.0}, {\"date\": \"2020-04-15\", \"new_cases_est_ESP\": 44240.0, \"new_deaths_ESP\": -787.0, \"new_cases_ESP\": 4424.0, \"new_cases_ALE\": 2486.0, \"new_deaths_ALE\": -285.0}, {\"date\": \"2020-04-16\", \"new_cases_est_ESP\": 38200.0, \"new_deaths_ESP\": -617.0, \"new_cases_ESP\": 3820.0, \"new_cases_ALE\": 2866.0, \"new_deaths_ALE\": -315.0}, {\"date\": \"2020-04-17\", \"new_cases_est_ESP\": 38180.0, \"new_deaths_ESP\": -585.0, \"new_cases_ESP\": 3818.0, \"new_cases_ALE\": 3380.0, \"new_deaths_ALE\": -299.0}, {\"date\": \"2020-04-18\", \"new_cases_est_ESP\": 38360.0, \"new_deaths_ESP\": -565.0, \"new_cases_ESP\": 3836.0, \"new_cases_ALE\": 3609.0, \"new_deaths_ALE\": -242.0}, {\"date\": \"2020-04-20\", \"new_cases_est_ESP\": 22180.0, \"new_deaths_ESP\": -399.0, \"new_cases_ESP\": 2218.0, \"new_cases_ALE\": 1775.0, \"new_deaths_ALE\": -110.0}, {\"date\": \"2020-04-21\", \"new_cases_est_ESP\": 29510.0, \"new_deaths_ESP\": -430.0, \"new_cases_ESP\": 2951.0, \"new_cases_ALE\": 1785.0, \"new_deaths_ALE\": -194.0}, {\"date\": \"2020-04-22\", \"new_cases_est_ESP\": 23120.0, \"new_deaths_ESP\": -435.0, \"new_cases_ESP\": 2312.0, \"new_cases_ALE\": 2237.0, \"new_deaths_ALE\": -281.0}, {\"date\": \"2020-04-23\", \"new_cases_est_ESP\": 29160.0, \"new_deaths_ESP\": -440.0, \"new_cases_ESP\": 2916.0, \"new_cases_ALE\": 2352.0, \"new_deaths_ALE\": -215.0}, {\"date\": \"2020-04-24\", \"new_cases_est_ESP\": 21140.0, \"new_deaths_ESP\": -367.0, \"new_cases_ESP\": 2114.0, \"new_cases_ALE\": 2337.0, \"new_deaths_ALE\": -227.0}, {\"date\": \"2020-04-25\", \"new_cases_est_ESP\": 25060.0, \"new_deaths_ESP\": -378.0, \"new_cases_ESP\": 2506.0, \"new_cases_ALE\": 2055.0, \"new_deaths_ALE\": -179.0}, {\"date\": \"2020-04-26\", \"new_cases_est_ESP\": 16410.0, \"new_deaths_ESP\": -288.0, \"new_cases_ESP\": 1641.0, \"new_cases_ALE\": 1737.0, \"new_deaths_ALE\": -140.0}, {\"date\": \"2020-04-27\", \"new_cases_est_ESP\": 16600.0, \"new_deaths_ESP\": -0.0, \"new_cases_ESP\": 1660.0, \"new_cases_ALE\": 1018.0, \"new_deaths_ALE\": -110.0}, {\"date\": \"2020-04-28\", \"new_cases_est_ESP\": 15250.0, \"new_deaths_ESP\": -632.0, \"new_cases_ESP\": 1525.0, \"new_cases_ALE\": 1144.0, \"new_deaths_ALE\": -163.0}, {\"date\": \"2020-04-29\", \"new_cases_est_ESP\": 8470.0, \"new_deaths_ESP\": -453.0, \"new_cases_ESP\": 847.0, \"new_cases_ALE\": 1304.0, \"new_deaths_ALE\": -202.0}, {\"date\": \"2020-04-30\", \"new_cases_est_ESP\": 12410.0, \"new_deaths_ESP\": -268.0, \"new_cases_ESP\": 1241.0, \"new_cases_ALE\": 1478.0, \"new_deaths_ALE\": -173.0}, {\"date\": \"2020-05-01\", \"new_cases_est_ESP\": 13870.0, \"new_deaths_ESP\": -281.0, \"new_cases_ESP\": 1387.0, \"new_cases_ALE\": 1639.0, \"new_deaths_ALE\": -193.0}, {\"date\": \"2020-05-02\", \"new_cases_est_ESP\": 12340.0, \"new_deaths_ESP\": -276.0, \"new_cases_ESP\": 1234.0, \"new_cases_ALE\": 945.0, \"new_deaths_ALE\": -94.0}, {\"date\": \"2020-05-03\", \"new_cases_est_ESP\": 9350.0, \"new_deaths_ESP\": -164.0, \"new_cases_ESP\": 935.0, \"new_cases_ALE\": 793.0, \"new_deaths_ALE\": -74.0}, {\"date\": \"2020-05-04\", \"new_cases_est_ESP\": 4660.0, \"new_deaths_ESP\": -164.0, \"new_cases_ESP\": 466.0, \"new_cases_ALE\": 679.0, \"new_deaths_ALE\": -43.0}, {\"date\": \"2020-05-05\", \"new_cases_est_ESP\": 10390.0, \"new_deaths_ESP\": -185.0, \"new_cases_ESP\": 1039.0, \"new_cases_ALE\": 685.0, \"new_deaths_ALE\": -139.0}, {\"date\": \"2020-05-06\", \"new_cases_est_ESP\": 8800.0, \"new_deaths_ESP\": -244.0, \"new_cases_ESP\": 880.0, \"new_cases_ALE\": 1037.0, \"new_deaths_ALE\": -165.0}, {\"date\": \"2020-05-07\", \"new_cases_est_ESP\": 9210.0, \"new_deaths_ESP\": -213.0, \"new_cases_ESP\": 921.0, \"new_cases_ALE\": 1194.0, \"new_deaths_ALE\": -123.0}, {\"date\": \"2020-05-08\", \"new_cases_est_ESP\": 1675.7142857142858, \"new_deaths_ESP\": -181.0, \"new_cases_ESP\": 1173.0, \"new_cases_ALE\": 1209.0, \"new_deaths_ALE\": -147.0}, {\"date\": \"2020-05-09\", \"new_cases_est_ESP\": 1061.4285714285713, \"new_deaths_ESP\": -227.0, \"new_cases_ESP\": 743.0, \"new_cases_ALE\": 1251.0, \"new_deaths_ALE\": -103.0}, {\"date\": \"2020-05-10\", \"new_cases_est_ESP\": 4880.0, \"new_deaths_ESP\": -143.0, \"new_cases_ESP\": 3416.0, \"new_cases_ALE\": 667.0, \"new_deaths_ALE\": -26.0}, {\"date\": \"2020-05-11\", \"new_cases_est_ESP\": 561.4285714285714, \"new_deaths_ESP\": -123.0, \"new_cases_ESP\": 393.0, \"new_cases_ALE\": 357.0, \"new_deaths_ALE\": -22.0}, {\"date\": \"2020-05-12\", \"new_cases_est_ESP\": 688.5714285714287, \"new_deaths_ESP\": -176.0, \"new_cases_ESP\": 482.0, \"new_cases_ALE\": 933.0, \"new_deaths_ALE\": -116.0}, {\"date\": \"2020-05-13\", \"new_cases_est_ESP\": 627.1428571428571, \"new_deaths_ESP\": -184.0, \"new_cases_ESP\": 439.0, \"new_cases_ALE\": 798.0, \"new_deaths_ALE\": -101.0}, {\"date\": \"2020-05-14\", \"new_cases_est_ESP\": 1212.857142857143, \"new_deaths_ESP\": -217.0, \"new_cases_ESP\": 849.0, \"new_cases_ALE\": 933.0, \"new_deaths_ALE\": -89.0}, {\"date\": \"2020-05-15\", \"new_cases_est_ESP\": 918.5714285714287, \"new_deaths_ESP\": -138.0, \"new_cases_ESP\": 643.0, \"new_cases_ALE\": 913.0, \"new_deaths_ALE\": -101.0}, {\"date\": \"2020-05-16\", \"new_cases_est_ESP\": 735.7142857142858, \"new_deaths_ESP\": -104.0, \"new_cases_ESP\": 515.0, \"new_cases_ALE\": 620.0, \"new_deaths_ALE\": -57.0}, {\"date\": \"2020-05-17\", \"new_cases_est_ESP\": 931.4285714285713, \"new_deaths_ESP\": -87.0, \"new_cases_ESP\": 652.0, \"new_cases_ALE\": 583.0, \"new_deaths_ALE\": -33.0}, {\"date\": \"2020-05-18\", \"new_cases_est_ESP\": 365.71428571428567, \"new_deaths_ESP\": -59.0, \"new_cases_ESP\": 256.0, \"new_cases_ALE\": 342.0, \"new_deaths_ALE\": -21.0}, {\"date\": \"2020-05-19\", \"new_cases_est_ESP\": 615.7142857142858, \"new_deaths_ESP\": -69.0, \"new_cases_ESP\": 431.0, \"new_cases_ALE\": 513.0, \"new_deaths_ALE\": -72.0}, {\"date\": \"2020-05-20\", \"new_cases_est_ESP\": 740.0, \"new_deaths_ESP\": -110.0, \"new_cases_ESP\": 518.0, \"new_cases_ALE\": 797.0, \"new_deaths_ALE\": -83.0}, {\"date\": \"2020-05-21\", \"new_cases_est_ESP\": 688.5714285714287, \"new_deaths_ESP\": -52.0, \"new_cases_ESP\": 482.0, \"new_cases_ALE\": 745.0, \"new_deaths_ALE\": -57.0}, {\"date\": \"2020-05-22\", \"new_cases_est_ESP\": 2552.857142857143, \"new_deaths_ESP\": -688.0, \"new_cases_ESP\": 1787.0, \"new_cases_ALE\": 460.0, \"new_deaths_ALE\": -27.0}, {\"date\": \"2020-05-23\", \"new_cases_est_ESP\": 665.7142857142858, \"new_deaths_ESP\": -50.0, \"new_cases_ESP\": 466.0, \"new_cases_ALE\": 638.0, \"new_deaths_ALE\": -42.0}, {\"date\": \"2020-05-24\", \"new_cases_est_ESP\": 688.5714285714287, \"new_deaths_ESP\": -74.0, \"new_cases_ESP\": 482.0, \"new_cases_ALE\": 431.0, \"new_deaths_ALE\": -31.0}, {\"date\": \"2020-05-26\", \"new_cases_est_ESP\": 1227.142857142857, \"new_deaths_ESP\": -283.0, \"new_cases_ESP\": 859.0, \"new_cases_ALE\": 432.0, \"new_deaths_ALE\": -45.0}, {\"date\": \"2020-05-27\", \"new_cases_est_ESP\": 728.5714285714287, \"new_deaths_ESP\": -1.0, \"new_cases_ESP\": 510.0, \"new_cases_ALE\": 362.0, \"new_deaths_ALE\": -47.0}, {\"date\": \"2020-05-28\", \"new_cases_est_ESP\": 1624.2857142857142, \"new_deaths_ESP\": -1.0, \"new_cases_ESP\": 1137.0, \"new_cases_ALE\": 353.0, \"new_deaths_ALE\": -62.0}, {\"date\": \"2020-05-29\", \"new_cases_est_ESP\": 940.0, \"new_deaths_ESP\": -2.0, \"new_cases_ESP\": 658.0, \"new_cases_ALE\": 741.0, \"new_deaths_ALE\": -39.0}, {\"date\": \"2020-05-30\", \"new_cases_est_ESP\": 948.5714285714287, \"new_deaths_ESP\": -4.0, \"new_cases_ESP\": 664.0, \"new_cases_ALE\": 738.0, \"new_deaths_ALE\": -39.0}, {\"date\": \"2020-05-31\", \"new_cases_est_ESP\": 287.14285714285717, \"new_deaths_ESP\": -2.0, \"new_cases_ESP\": 201.0, \"new_cases_ALE\": 286.0, \"new_deaths_ALE\": -11.0}, {\"date\": \"2020-06-01\", \"new_cases_est_ESP\": 298.57142857142856, \"new_deaths_ESP\": -0.0, \"new_cases_ESP\": 209.0, \"new_cases_ALE\": 333.0, \"new_deaths_ALE\": -11.0}, {\"date\": \"2020-06-02\", \"new_cases_est_ESP\": 420.0, \"new_deaths_ESP\": -0.0, \"new_cases_ESP\": 294.0, \"new_cases_ALE\": 213.0, \"new_deaths_ALE\": -11.0}, {\"date\": \"2020-06-03\", \"new_cases_est_ESP\": 562.8571428571429, \"new_deaths_ESP\": -1.0, \"new_cases_ESP\": 394.0, \"new_cases_ALE\": 342.0, \"new_deaths_ALE\": -29.0}, {\"date\": \"2020-06-04\", \"new_cases_est_ESP\": 477.1428571428572, \"new_deaths_ESP\": -5.0, \"new_cases_ESP\": 334.0, \"new_cases_ALE\": 394.0, \"new_deaths_ALE\": -30.0}, {\"date\": \"2020-06-05\", \"new_cases_est_ESP\": 454.28571428571433, \"new_deaths_ESP\": -1.0, \"new_cases_ESP\": 318.0, \"new_cases_ALE\": 507.0, \"new_deaths_ALE\": -32.0}, {\"date\": \"2020-06-06\", \"new_cases_est_ESP\": 474.28571428571433, \"new_deaths_ESP\": -1.0, \"new_cases_ESP\": 332.0, \"new_cases_ALE\": 407.0, \"new_deaths_ALE\": -33.0}, {\"date\": \"2020-06-07\", \"new_cases_est_ESP\": 342.85714285714283, \"new_deaths_ESP\": -1.0, \"new_cases_ESP\": 240.0, \"new_cases_ALE\": 301.0, \"new_deaths_ALE\": -22.0}, {\"date\": \"2020-06-08\", \"new_cases_est_ESP\": 238.57142857142856, \"new_deaths_ESP\": -0.0, \"new_cases_ESP\": 167.0, \"new_cases_ALE\": 214.0, \"new_deaths_ALE\": -6.0}, {\"date\": \"2020-06-09\", \"new_cases_est_ESP\": 355.71428571428567, \"new_deaths_ESP\": -0.0, \"new_cases_ESP\": 249.0, \"new_cases_ALE\": 350.0, \"new_deaths_ALE\": -37.0}, {\"date\": \"2020-06-10\", \"new_cases_est_ESP\": 448.57142857142856, \"new_deaths_ESP\": -0.0, \"new_cases_ESP\": 314.0, \"new_cases_ALE\": 318.0, \"new_deaths_ALE\": -18.0}, {\"date\": \"2020-06-11\", \"new_cases_est_ESP\": 610.0, \"new_deaths_ESP\": -0.0, \"new_cases_ESP\": 427.0, \"new_cases_ALE\": 555.0, \"new_deaths_ALE\": -26.0}, {\"date\": \"2020-06-12\", \"new_cases_est_ESP\": 717.1428571428571, \"new_deaths_ESP\": -0.0, \"new_cases_ESP\": 502.0, \"new_cases_ALE\": 258.0, \"new_deaths_ALE\": -8.0}, {\"date\": \"2020-06-13\", \"new_cases_est_ESP\": 565.7142857142858, \"new_deaths_ESP\": -0.0, \"new_cases_ESP\": 396.0, \"new_cases_ALE\": 348.0, \"new_deaths_ALE\": -18.0}, {\"date\": \"2020-06-14\", \"new_cases_est_ESP\": 461.4285714285714, \"new_deaths_ESP\": -0.0, \"new_cases_ESP\": 323.0, \"new_cases_ALE\": 247.0, \"new_deaths_ALE\": -6.0}, {\"date\": \"2020-06-15\", \"new_cases_est_ESP\": 258.57142857142856, \"new_deaths_ESP\": -0.0, \"new_cases_ESP\": 181.0, \"new_cases_ALE\": 192.0, \"new_deaths_ALE\": -4.0}, {\"date\": \"2020-06-16\", \"new_cases_est_ESP\": 312.85714285714283, \"new_deaths_ESP\": -0.0, \"new_cases_ESP\": 219.0, \"new_cases_ALE\": 378.0, \"new_deaths_ALE\": -9.0}, {\"date\": \"2020-06-17\", \"new_cases_est_ESP\": 507.1428571428572, \"new_deaths_ESP\": -0.0, \"new_cases_ESP\": 355.0, \"new_cases_ALE\": 345.0, \"new_deaths_ALE\": -30.0}, {\"date\": \"2020-06-18\", \"new_cases_est_ESP\": 835.7142857142858, \"new_deaths_ESP\": -0.0, \"new_cases_ESP\": 585.0, \"new_cases_ALE\": 580.0, \"new_deaths_ALE\": -26.0}, {\"date\": \"2020-06-19\", \"new_cases_est_ESP\": 438.57142857142856, \"new_deaths_ESP\": -1179.0, \"new_cases_ESP\": 307.0, \"new_cases_ALE\": 770.0, \"new_deaths_ALE\": -16.0}, {\"date\": \"2020-06-20\", \"new_cases_est_ESP\": 518.5714285714286, \"new_deaths_ESP\": -7.0, \"new_cases_ESP\": 363.0, \"new_cases_ALE\": 601.0, \"new_deaths_ALE\": -10.0}, {\"date\": \"2020-06-21\", \"new_cases_est_ESP\": 477.1428571428572, \"new_deaths_ESP\": -1.0, \"new_cases_ESP\": 334.0, \"new_cases_ALE\": 687.0, \"new_deaths_ALE\": -0.0}, {\"date\": \"2020-06-22\", \"new_cases_est_ESP\": 331.42857142857144, \"new_deaths_ESP\": -1.0, \"new_cases_ESP\": 232.0, \"new_cases_ALE\": 537.0, \"new_deaths_ALE\": -3.0}, {\"date\": \"2020-06-23\", \"new_cases_est_ESP\": 354.28571428571433, \"new_deaths_ESP\": -1.0, \"new_cases_ESP\": 248.0, \"new_cases_ALE\": 503.0, \"new_deaths_ALE\": -10.0}, {\"date\": \"2020-06-24\", \"new_cases_est_ESP\": 477.1428571428572, \"new_deaths_ESP\": -2.0, \"new_cases_ESP\": 334.0, \"new_cases_ALE\": 587.0, \"new_deaths_ALE\": -19.0}, {\"date\": \"2020-06-25\", \"new_cases_est_ESP\": 571.4285714285714, \"new_deaths_ESP\": -3.0, \"new_cases_ESP\": 400.0, \"new_cases_ALE\": 630.0, \"new_deaths_ALE\": -13.0}, {\"date\": \"2020-06-26\", \"new_cases_est_ESP\": 598.5714285714286, \"new_deaths_ESP\": -8.0, \"new_cases_ESP\": 419.0, \"new_cases_ALE\": 477.0, \"new_deaths_ALE\": -21.0}, {\"date\": \"2020-06-27\", \"new_cases_est_ESP\": 805.7142857142858, \"new_deaths_ESP\": -3.0, \"new_cases_ESP\": 564.0, \"new_cases_ALE\": 687.0, \"new_deaths_ALE\": -6.0}, {\"date\": \"2020-06-28\", \"new_cases_est_ESP\": 430.0, \"new_deaths_ESP\": -2.0, \"new_cases_ESP\": 301.0, \"new_cases_ALE\": 256.0, \"new_deaths_ALE\": -3.0}, {\"date\": \"2020-06-29\", \"new_cases_est_ESP\": 285.7142857142857, \"new_deaths_ESP\": -3.0, \"new_cases_ESP\": 200.0, \"new_cases_ALE\": 262.0, \"new_deaths_ALE\": -4.0}, {\"date\": \"2020-06-30\", \"new_cases_est_ESP\": 430.0, \"new_deaths_ESP\": -9.0, \"new_cases_ESP\": 301.0, \"new_cases_ALE\": 498.0, \"new_deaths_ALE\": -12.0}, {\"date\": \"2020-07-01\", \"new_cases_est_ESP\": 554.2857142857143, \"new_deaths_ESP\": -8.0, \"new_cases_ESP\": 388.0, \"new_cases_ALE\": 466.0, \"new_deaths_ALE\": -12.0}, {\"date\": \"2020-07-02\", \"new_cases_est_ESP\": 634.2857142857142, \"new_deaths_ESP\": -5.0, \"new_cases_ESP\": 444.0, \"new_cases_ALE\": 503.0, \"new_deaths_ALE\": -9.0}, {\"date\": \"2020-07-03\", \"new_cases_est_ESP\": 631.4285714285714, \"new_deaths_ESP\": -17.0, \"new_cases_ESP\": 442.0, \"new_cases_ALE\": 446.0, \"new_deaths_ALE\": -9.0}, {\"date\": \"2020-07-04\", \"new_cases_est_ESP\": 0.0, \"new_deaths_ESP\": -0.0, \"new_cases_ESP\": 0.0, \"new_cases_ALE\": 422.0, \"new_deaths_ALE\": -7.0}, {\"date\": \"2020-07-06\", \"new_cases_est_ESP\": 1777.142857142857, \"new_deaths_ESP\": -3.0, \"new_cases_ESP\": 1244.0, \"new_cases_ALE\": 219.0, \"new_deaths_ALE\": -4.0}, {\"date\": \"2020-07-07\", \"new_cases_est_ESP\": 487.1428571428572, \"new_deaths_ESP\": -4.0, \"new_cases_ESP\": 341.0, \"new_cases_ALE\": 390.0, \"new_deaths_ALE\": -8.0}, {\"date\": \"2020-07-08\", \"new_cases_est_ESP\": 547.1428571428571, \"new_deaths_ESP\": -4.0, \"new_cases_ESP\": 383.0, \"new_cases_ALE\": 397.0, \"new_deaths_ALE\": -12.0}, {\"date\": \"2020-07-09\", \"new_cases_est_ESP\": 775.7142857142858, \"new_deaths_ESP\": -5.0, \"new_cases_ESP\": 543.0, \"new_cases_ALE\": 442.0, \"new_deaths_ALE\": -12.0}, {\"date\": \"2020-07-10\", \"new_cases_est_ESP\": 1217.142857142857, \"new_deaths_ESP\": -2.0, \"new_cases_ESP\": 852.0, \"new_cases_ALE\": 395.0, \"new_deaths_ALE\": -6.0}, {\"date\": \"2020-07-13\", \"new_cases_est_ESP\": 2921.4285714285716, \"new_deaths_ESP\": -3.0, \"new_cases_ESP\": 2045.0, \"new_cases_ALE\": 159.0, \"new_deaths_ALE\": -1.0}, {\"date\": \"2020-07-14\", \"new_cases_est_ESP\": 951.4285714285713, \"new_deaths_ESP\": -3.0, \"new_cases_ESP\": 666.0, \"new_cases_ALE\": 412.0, \"new_deaths_ALE\": -4.0}, {\"date\": \"2020-07-15\", \"new_cases_est_ESP\": 1250.0, \"new_deaths_ESP\": -4.0, \"new_cases_ESP\": 875.0, \"new_cases_ALE\": 351.0, \"new_deaths_ALE\": -3.0}, {\"date\": \"2020-07-16\", \"new_cases_est_ESP\": 1944.2857142857144, \"new_deaths_ESP\": -3.0, \"new_cases_ESP\": 1361.0, \"new_cases_ALE\": 534.0, \"new_deaths_ALE\": -7.0}, {\"date\": \"2020-07-17\", \"new_cases_est_ESP\": 2000.0, \"new_deaths_ESP\": -4.0, \"new_cases_ESP\": 1400.0, \"new_cases_ALE\": 583.0, \"new_deaths_ALE\": -4.0}, {\"date\": \"2020-07-20\", \"new_cases_est_ESP\": 6544.285714285716, \"new_deaths_ESP\": -2.0, \"new_cases_ESP\": 4581.0, \"new_cases_ALE\": 249.0, \"new_deaths_ALE\": -2.0}, {\"date\": \"2020-07-21\", \"new_cases_est_ESP\": 1940.0, \"new_deaths_ESP\": -2.0, \"new_cases_ESP\": 1358.0, \"new_cases_ALE\": 522.0, \"new_deaths_ALE\": -4.0}, {\"date\": \"2020-07-22\", \"new_cases_est_ESP\": 1938.571428571429, \"new_deaths_ESP\": -2.0, \"new_cases_ESP\": 1357.0, \"new_cases_ALE\": 454.0, \"new_deaths_ALE\": -5.0}, {\"date\": \"2020-07-23\", \"new_cases_est_ESP\": 3735.714285714286, \"new_deaths_ESP\": -3.0, \"new_cases_ESP\": 2615.0, \"new_cases_ALE\": 569.0, \"new_deaths_ALE\": -6.0}, {\"date\": \"2020-07-24\", \"new_cases_est_ESP\": 3221.4285714285716, \"new_deaths_ESP\": -3.0, \"new_cases_ESP\": 2255.0, \"new_cases_ALE\": 815.0, \"new_deaths_ALE\": -10.0}, {\"date\": \"2020-07-27\", \"new_cases_est_ESP\": 9087.142857142857, \"new_deaths_ESP\": -2.0, \"new_cases_ESP\": 6361.0, \"new_cases_ALE\": 340.0, \"new_deaths_ALE\": -0.0}, {\"date\": \"2020-07-28\", \"new_cases_est_ESP\": 2611.428571428572, \"new_deaths_ESP\": -2.0, \"new_cases_ESP\": 1828.0, \"new_cases_ALE\": 633.0, \"new_deaths_ALE\": -4.0}, {\"date\": \"2020-07-29\", \"new_cases_est_ESP\": 2901.4285714285716, \"new_deaths_ESP\": -5.0, \"new_cases_ESP\": 2031.0, \"new_cases_ALE\": 684.0, \"new_deaths_ALE\": -6.0}, {\"date\": \"2020-07-30\", \"new_cases_est_ESP\": 3984.285714285714, \"new_deaths_ESP\": -2.0, \"new_cases_ESP\": 2789.0, \"new_cases_ALE\": 902.0, \"new_deaths_ALE\": -6.0}, {\"date\": \"2020-07-31\", \"new_cases_est_ESP\": 4417.142857142857, \"new_deaths_ESP\": -2.0, \"new_cases_ESP\": 3092.0, \"new_cases_ALE\": 870.0, \"new_deaths_ALE\": -7.0}, {\"date\": \"2020-08-03\", \"new_cases_est_ESP\": 12188.571428571431, \"new_deaths_ESP\": -27.0, \"new_cases_ESP\": 8532.0, \"new_cases_ALE\": 509.0, \"new_deaths_ALE\": -7.0}, {\"date\": \"2020-08-04\", \"new_cases_est_ESP\": 8228.57142857143, \"new_deaths_ESP\": -26.0, \"new_cases_ESP\": 5760.0, \"new_cases_ALE\": 879.0, \"new_deaths_ALE\": -8.0}, {\"date\": \"2020-08-05\", \"new_cases_est_ESP\": 4218.571428571428, \"new_deaths_ESP\": -1.0, \"new_cases_ESP\": 2953.0, \"new_cases_ALE\": 741.0, \"new_deaths_ALE\": -12.0}, {\"date\": \"2020-08-06\", \"new_cases_est_ESP\": 5840.0, \"new_deaths_ESP\": -1.0, \"new_cases_ESP\": 4088.0, \"new_cases_ALE\": 1740.0, \"new_deaths_ALE\": -7.0}, {\"date\": \"2020-08-07\", \"new_cases_est_ESP\": 6438.571428571428, \"new_deaths_ESP\": -3.0, \"new_cases_ESP\": 4507.0, \"new_cases_ALE\": 1164.0, \"new_deaths_ALE\": -8.0}, {\"date\": \"2020-08-10\", \"new_cases_est_ESP\": 12311.428571428569, \"new_deaths_ESP\": -73.0, \"new_cases_ESP\": 8618.0, \"new_cases_ALE\": 317.0, \"new_deaths_ALE\": -1.0}, {\"date\": \"2020-08-11\", \"new_cases_est_ESP\": 5188.571428571428, \"new_deaths_ESP\": -5.0, \"new_cases_ESP\": 3632.0, \"new_cases_ALE\": 1079.0, \"new_deaths_ALE\": -4.0}, {\"date\": \"2020-08-12\", \"new_cases_est_ESP\": 4531.428571428572, \"new_deaths_ESP\": 2.0, \"new_cases_ESP\": 3172.0, \"new_cases_ALE\": 1182.0, \"new_deaths_ALE\": -6.0}, {\"date\": \"2020-08-13\", \"new_cases_est_ESP\": 10785.714285714286, \"new_deaths_ESP\": -26.0, \"new_cases_ESP\": 7550.0, \"new_cases_ALE\": 1521.0, \"new_deaths_ALE\": -4.0}, {\"date\": \"2020-08-14\", \"new_cases_est_ESP\": 7827.142857142857, \"new_deaths_ESP\": -12.0, \"new_cases_ESP\": 5479.0, \"new_cases_ALE\": 1452.0, \"new_deaths_ALE\": -14.0}, {\"date\": \"2020-08-18\", \"new_cases_est_ESP\": 7305.714285714284, \"new_deaths_ESP\": -24.0, \"new_cases_ESP\": 5114.0, \"new_cases_ALE\": 1431.0, \"new_deaths_ALE\": -0.0}, {\"date\": \"2020-08-19\", \"new_cases_est_ESP\": 9530.0, \"new_deaths_ESP\": -127.0, \"new_cases_ESP\": 6671.0, \"new_cases_ALE\": 769.0, \"new_deaths_ALE\": -11.0}, {\"date\": \"2020-08-20\", \"new_cases_est_ESP\": 10055.714285714286, \"new_deaths_ESP\": -16.0, \"new_cases_ESP\": 7039.0, \"new_cases_ALE\": 1707.0, \"new_deaths_ALE\": -10.0}, {\"date\": \"2020-08-21\", \"new_cases_est_ESP\": 11640.0, \"new_deaths_ESP\": -25.0, \"new_cases_ESP\": 8148.0, \"new_cases_ALE\": 2327.0, \"new_deaths_ALE\": -7.0}, {\"date\": \"2020-08-25\", \"new_cases_est_ESP\": 10167.142857142857, \"new_deaths_ESP\": -52.0, \"new_cases_ESP\": 7117.0, \"new_cases_ALE\": 1278.0, \"new_deaths_ALE\": -5.0}, {\"date\": \"2020-08-26\", \"new_cases_est_ESP\": 10422.857142857143, \"new_deaths_ESP\": -47.0, \"new_cases_ESP\": 7296.0, \"new_cases_ALE\": 1576.0, \"new_deaths_ALE\": -3.0}, {\"date\": \"2020-08-27\", \"new_cases_est_ESP\": 13797.142857142857, \"new_deaths_ESP\": -25.0, \"new_cases_ESP\": 9658.0, \"new_cases_ALE\": 1507.0, \"new_deaths_ALE\": -5.0}, {\"date\": \"2020-08-28\", \"new_cases_est_ESP\": 13970.0, \"new_deaths_ESP\": -15.0, \"new_cases_ESP\": 9779.0, \"new_cases_ALE\": 1571.0, \"new_deaths_ALE\": -3.0}, {\"date\": \"2020-09-01\", \"new_cases_est_ESP\": 11592.857142857143, \"new_deaths_ESP\": -58.0, \"new_cases_ESP\": 8115.0, \"new_cases_ALE\": 1218.0, \"new_deaths_ALE\": -4.0}, {\"date\": \"2020-09-02\", \"new_cases_est_ESP\": 12258.571428571431, \"new_deaths_ESP\": -42.0, \"new_cases_ESP\": 8581.0, \"new_cases_ALE\": 1256.0, \"new_deaths_ALE\": -11.0}, {\"date\": \"2020-09-03\", \"new_cases_est_ESP\": 12798.571428571431, \"new_deaths_ESP\": -40.0, \"new_cases_ESP\": 8959.0, \"new_cases_ALE\": 1311.0, \"new_deaths_ALE\": -8.0}, {\"date\": \"2020-09-04\", \"new_cases_est_ESP\": 14965.714285714286, \"new_deaths_ESP\": -184.0, \"new_cases_ESP\": 10476.0, \"new_cases_ALE\": 1453.0, \"new_deaths_ALE\": -1.0}, {\"date\": \"2020-09-08\", \"new_cases_est_ESP\": 12805.714285714286, \"new_deaths_ESP\": -78.0, \"new_cases_ESP\": 8964.0, \"new_cases_ALE\": 1499.0, \"new_deaths_ALE\": -4.0}, {\"date\": \"2020-09-09\", \"new_cases_est_ESP\": 12665.714285714286, \"new_deaths_ESP\": -34.0, \"new_cases_ESP\": 8866.0, \"new_cases_ALE\": 1176.0, \"new_deaths_ALE\": -9.0}, {\"date\": \"2020-09-10\", \"new_cases_est_ESP\": 15377.142857142857, \"new_deaths_ESP\": -71.0, \"new_cases_ESP\": 10764.0, \"new_cases_ALE\": 1892.0, \"new_deaths_ALE\": -3.0}, {\"date\": \"2020-09-11\", \"new_cases_est_ESP\": 17404.285714285714, \"new_deaths_ESP\": -48.0, \"new_cases_ESP\": 12183.0, \"new_cases_ALE\": 1484.0, \"new_deaths_ALE\": -1.0}]}}, {\"mode\": \"vega-lite\"});\n",
       "</script>"
      ],
      "text/plain": [
       "alt.LayerChart(...)"
      ]
     },
     "execution_count": 2,
     "metadata": {},
     "output_type": "execute_result"
    }
   ],
   "source": [
    "#collapse-hide\n",
    "confina_df = pd.DataFrame([{'x_min': '2020-03-15 00:00:00',\n",
    "                            'x_max': '2020-06-20 00:00:00',\n",
    "                            'y_min': -2000,\n",
    "                            'y_max': 14000}])\n",
    "\n",
    "confina_est_df = pd.DataFrame([{'x_min': '2020-03-15 00:00:00',\n",
    "                                'x_max': '2020-06-20 00:00:00',\n",
    "                                'y_min': -10000,\n",
    "                                'y_max': 100000}])\n",
    "\n",
    "confin_casos = alt.Chart(confina_df).mark_rect(color='firebrick', opacity=0.1).encode(\n",
    "    x='x_min:T',\n",
    "    x2='x_max:T',\n",
    "    y='y_min:Q',\n",
    "    y2='y_max:Q')\n",
    "\n",
    "base1 = alt.Chart(df_casos)\n",
    "casos = base1.mark_bar(opacity=0.1).encode(x=alt.X('date:T', title='Fecha'), \n",
    "                                           y=alt.Y('new_cases_ESP:Q', title=\"Casos\"))\n",
    "decesos = base1.mark_bar(color='orange',opacity=0.1).encode(x=alt.X('date:T', title='Fecha'), \n",
    "                                           y=alt.Y('new_deaths_ESP:Q'))\n",
    "\n",
    "\n",
    "alt.layer(confin_casos + casos + decesos).interactive()"
   ]
  },
  {
   "cell_type": "markdown",
   "metadata": {},
   "source": [
    "Es normal que los casos suban y bajen. Hay tener en cuenta que aunque los datos pareca que se repitan de nuevo, no es la misma historia. \n",
    "¿Y lo medios de comunicación entonces? Vamos a comparar el grafico de casos estimados con las noticias. La situación ha mejorado, pero sigue habiendo una gran cantidad de noticias sobre casos y el virus. Entiendo que sea un tema de actualidad, pero la omnipresencia en los medios afecta a nuestra percepción de la realidad. "
   ]
  }
 ],
 "metadata": {
  "kernelspec": {
   "display_name": "Python 3",
   "language": "python",
   "name": "python3"
  },
  "language_info": {
   "codemirror_mode": {
    "name": "ipython",
    "version": 3
   },
   "file_extension": ".py",
   "mimetype": "text/x-python",
   "name": "python",
   "nbconvert_exporter": "python",
   "pygments_lexer": "ipython3",
   "version": "3.8.5"
  }
 },
 "nbformat": 4,
 "nbformat_minor": 4
}
