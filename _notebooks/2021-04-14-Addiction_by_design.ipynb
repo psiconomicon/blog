{
 "cells": [
  {
   "cell_type": "markdown",
   "metadata": {},
   "source": [
    "# Addiction by design\n",
    "> Segunda parte de mis comentarios e impresiones sobre _Datanomics_ de Paloma Llaneza donde hablo desde mi perspectiva como psicólogo y expreriencia como usuario sobre las estrategias que se emplean en los medios on-line y Apps.\n",
    "\n",
    "- toc: true \n",
    "- badges: false\n",
    "- comments: true\n",
    "- author: Victoregb\n",
    "- categories: [psicología, privacidad, datos, libro]"
   ]
  },
  {
   "cell_type": "markdown",
   "metadata": {},
   "source": [
    "Hoy me gustaría hablar de los dos capitulo de Datanomics que me dejé en el tintero. “Addiction by design” y “Manipulation by default”, tratan temas que podríamos resumir como “Breve iniciación a la psicología del aprendizaje aplicada (para hacer el mal)” y “Algunos de los sesgos que ocurren en el mundo digital”.  "
   ]
  },
  {
   "cell_type": "markdown",
   "metadata": {},
   "source": [
    "En el capitulo “Addiction by design” se hace referencia a __como los teléfonos móviles y las plataformas on-line generan respuestas condicionas__. Y de la misma forma que no hace falte ser físico para usar la ley de la gravedad, para usar las leyes del aprendizaje tampoco es necesario ser psicólogo. A fin de cuentas, cualquiera que tenga perro, haya tenido hijos o sea un ser vivo con capacidad de procesar estímulos vive constantemente condicionado por la realidad que le rodea y, a su vez, condicionando a cuantos le rodean. Las leyes del aprendizaje son como la gravedad, siempre han estado ahí y la gente las ha estado usando y teniendo en cuenta desde mucho antes de que alguien les pusiera nombre.  "
   ]
  },
  {
   "cell_type": "markdown",
   "metadata": {},
   "source": [
    "La autora acompaña al lector repasando algunos de puntos más importantes de la asignatura de Psicología del aprendizaje, un breve repaso de su historia, los tipos de condicionamiento y los programas de refuerzo.   "
   ]
  },
  {
   "cell_type": "markdown",
   "metadata": {},
   "source": [
    "![](https://raw.githubusercontent.com/psiconomicon/blog/master/images/Tragaperras-Arcoiris-89322.gif)"
   ]
  },
  {
   "cell_type": "markdown",
   "metadata": {},
   "source": [
    "Y cómo mediante ensayo error, __diseñadores terminaron creando plataformas que en cierta manera mimetizan los mecanismos de las maquinas tragaperras__. Siendo un intervalo de razón variable una de las mejores formas de establecer una conducta porque nunca sabes cuando tendrás premio y siempre estás a la expectativa.  ![](https://raw.githubusercontent.com/psiconomicon/blog/master/images/twitter-feed-refresh.gif \"¿A que vosotros también tiráis de la palanca para ver que nueva sorpresa o _CosaSuperInteresanteQueNoOsPodéisPerder_ aparece vuestro timeline (TL) o muro de Facebook?)\")"
   ]
  },
  {
   "cell_type": "markdown",
   "metadata": {},
   "source": [
    "Pero ojalá estas fueran las únicas armas que __usan para hacer que nos quedemos en las plataformas y nos puedan poner publicidad__ para sostener su modelo de negocio. En el libro desgranan otras, como el control de las opciones de los menús, __la búsqueda y necesidad de aprobación social__ (¡Igual esta vez sí que tengo 17 Likes a mi comentario, ¡voy a ver !!), las __paginas de scroll infinito__ que van generando contenido a medida que vas bajando (en una de estas caí yo y tardé 20 minutos de darme cuenta, una y no más) o el _“Si te vas de Facebook tus amigos te echaran de menos”_. __Manipulación rastrera, pero que funciona__, ahí sigue mi cuenta.  "
   ]
  },
  {
   "cell_type": "markdown",
   "metadata": {},
   "source": [
    "En el siguiente capitulo, “Manipulación by default”, se hace referencia explícitamente al __filtro burbuja__, desde la psicología hablaríamos más de _“exposición selectiva”_. Esto consiste en que __los sujetos buscan información que coincida con sus propias ideas en lugar de que las contradiga__. En este caso, encontrar información que te dé la razón siempre suele ser más reforzador. Además, tenemos el _sesgo de confirmación_, donde __la información que confirma nuestras creencias tiende a ser más saliente que la información que la contradice__. Y en el caso en que la información en contra sea abrumadora siempre nos quedará la _“disonancia cognitiva”_ para soplar y sorber al mismo tiempo (no me digáis que el ser humano no es _maravilloso_).  "
   ]
  },
  {
   "cell_type": "markdown",
   "metadata": {},
   "source": [
    "Esto sesgos provocan o favorecen la __aparición de las “cámaras de eco”__, las cuales se caracterizan por que los sujetos con unas mismas creencias tienden interaccionar entre ellos, exponiéndose un rango de información muy limitado lo que impide que puedan contrastar su información (Jacobson et al., 2016).  "
   ]
  },
  {
   "cell_type": "markdown",
   "metadata": {},
   "source": [
    "Y no sólo eso, sabemos que __los contenidos que nos soliviantan generan más trafico, más clics__. La proliferación de bulos y tergiversación de hechos ha tenido un boom con internet y el modelo de negocio es que a mayor trafico en una página web equivale a mayor número de vayas publicitarias vendidas. El inventarse mentiras para atraer ojos a una pagina web es un negocio que requiere una inversión mínima con un rédito muy alto. __La gente se indigna, lo que aumenta las probabilidades de que compartan dicho contenido__. Parecido a como ocurría con aquellas cadenas por Messenger y WhatsApp: _“Si no compartes este post con otras 10 personas tendrás 10 años de mala suerte”_ {% fn 1 %}. o algo si."
   ]
  },
  {
   "cell_type": "markdown",
   "metadata": {},
   "source": [
    "Para terminar, me gustaría resaltar que __es importante conocer como nos manipulan__ o mejor dicho __como construyen un entorno__ de forma a controlar como vamos a interactuar con él.  "
   ]
  },
  {
   "cell_type": "markdown",
   "metadata": {},
   "source": [
    "Para mi el ejemplo perfecto para estas cosas es Twitter. Llevo más de 10 años en twitter y a lo largo de este tiempo he sido muy quisquilloso a la hora de seguir a gente. Procuro tener un poco de todo, gente con la que estoy y no estoy de acuerdo, gente que me hace reír, que comparte cosas curiosas, cosas interesantes o cosas que hacen que aprenda o me replantee mis propias ideas desde otros puntos de vista. Para que todo esto funcione uno, primero tiene que acostumbrarse (lo cual no es fácil) y dos, tienes que mantener una suerte de equilibro.   "
   ]
  },
  {
   "cell_type": "markdown",
   "metadata": {},
   "source": [
    "Hace un tiempo Twiter tuvo la idea de implantar dos tipos de TL, uno de Destacados y otro el cronológico (el que existía hasta ahora). De primeras no recibí el cambio con mucha ilusión y me mantuve en mis trece con mi TL cronológico. Hace… ¿un par de años? (Lo siento, la pandemia hace que añada años a mis recuerdos) decidí darle una oportunidad al TL de Destacados. Me empezaron a aparecer Me gustas que ni fu ni fa, comentarios de gente que no seguía y cuya opinión no compartía y lentamente la cosa fue a más. Empezaron a aparecer __tuits con los que estaba tan en desacuerdo que me impelían a responder__, a puntualizar, a pedir un poco de reflexión. Empecé a __sentirme incómodo en mi propio TL__, ya no era mi sitio de compartir y aprender sino uno de polémica constante, de _“mira… no”s_ (pun intended).  "
   ]
  },
  {
   "cell_type": "markdown",
   "metadata": {},
   "source": [
    "Cuando __empecé a darme cuenta de ciertas reacciones viscerales__ que no iban nada acorde con mi forma de entender la red social ni de ser, decidí cambiar (por mucho que Twitter insistiese en cambiarme otra vez a Destacados) a mi TL cronológico y __el cambio fue radical. Volvía a estar a gusto en Twitter__. "
   ]
  },
  {
   "cell_type": "markdown",
   "metadata": {},
   "source": [
    "¿Qué mejor forma para hacer que la gente se quede en la red social que incentivar la interacción entre usuarios ya sea con videos de gatitos o cosas que tocan a la fibra o la moral? Estos fenómenos se dan en todas las redes sociales, lo era y es en los foros, es cierto en Twitter, lo es para Facebook donde cada vez que entro no tengo noticias de mis conocidos sino de gente que dice burradas o de conocidos que responden a burradas. Algo similar también ocurre con LinkedIn en el que se busca una reciprocidad a generar contenidos e interacción.  "
   ]
  },
  {
   "cell_type": "markdown",
   "metadata": {},
   "source": [
    "¿Vosotros también compartís estas sensaciones? ¿Consideráis que os aporta más o menos la forma en la que os presentan contenidos?   "
   ]
  },
  {
   "cell_type": "markdown",
   "metadata": {},
   "source": [
    "  {{ 'Ya sabéis compartid el post ;-)'| fndetail: 1 }}"
   ]
  },
  {
   "cell_type": "markdown",
   "metadata": {},
   "source": [
    "##### Referencias:\n",
    "Jacobson, S., Myung, E., & Johnson, S. L. (2016). Open media or echo chamber: The use of links in audience discussions on the Facebook Pages of partisan news organizations. Information, Communication & Society, 19(7), 875-891. https://doi.org/10.1080/1369118X.2015.1064461"
   ]
  }
 ],
 "metadata": {
  "kernelspec": {
   "display_name": "Python 3",
   "language": "python",
   "name": "python3"
  },
  "language_info": {
   "codemirror_mode": {
    "name": "ipython",
    "version": 3
   },
   "file_extension": ".py",
   "mimetype": "text/x-python",
   "name": "python",
   "nbconvert_exporter": "python",
   "pygments_lexer": "ipython3",
   "version": "3.8.5"
  }
 },
 "nbformat": 4,
 "nbformat_minor": 4
}
