{
 "cells": [
  {
   "cell_type": "markdown",
   "metadata": {},
   "source": [
    "# Consejos para estudiar\n",
    "> Consejos sobre como estudiar. Eso que se suele buscar cuando ya es demasiado tarde.\n",
    "\n",
    "- badges: false\n",
    "- comments: true\n",
    "- author: Victoregb\n",
    "- categories: [opinión, estudio, pedagogía]"
   ]
  },
  {
   "cell_type": "markdown",
   "metadata": {},
   "source": [
    "## Índice:\n",
    "[Las circunstancias](#id1)  \n",
    "[OR - GA - NI - ZA - CIÓN](#id2)  \n",
    "[El hábito, hace al estudiante](#id3)  "
   ]
  },
  {
   "cell_type": "markdown",
   "metadata": {},
   "source": [
    "![](src=\"https://raw.githubusercontent.com/psiconomicon/blog/gh-pages/images/IMG_0176.jpg\")"
   ]
  },
  {
   "cell_type": "markdown",
   "metadata": {},
   "source": [
    "### Las circunstancias:<a name=\"id1\"></a>  "
   ]
  },
  {
   "cell_type": "markdown",
   "metadata": {},
   "source": [
    "Durante la crisis he pensado mucho en aquellos estudiantes de la universidad (y en todos los niveles educativos) que han tenido que cambiar por causas de fuerza mayor de una modalidad presencial a una modalidad a distancia. "
   ]
  },
  {
   "cell_type": "markdown",
   "metadata": {},
   "source": [
    "Por mi experiencia personal, las dos tienen sus pros y sus contras. Una de las cosas que más me gustaban de la presencial era que seguía la línea de lo que había hecho desde siempre. Vas, te sientas, escuchas/tomas notas/aprendes, te vas. En ocasiones te distraías con tus compañeros, otras veces con las moscas. Pero si tenias dudas u otra persona preguntaba algo, la respuesta normalmente era al momento. Veías al profesor, __conocías__ al profesor. Tenías un horario claro. Pequeñas cosas que no valoras y que tienen mucho impacto en tu forma de estudiar.  "
   ]
  },
  {
   "cell_type": "markdown",
   "metadata": {},
   "source": [
    "En la educación a distancia todo eso se difumina, los horarios son los que TU te impones (y es que hay que imponérselos). Ya no vas a una clase, por lo que conocer a los compañeros es más complicado. Ahora es a través de Facebook y WhatsApp como la gente se organiza. Lo malos es si andas pez en esos temas donde la educación a distancia puede ser muy dura, porque el apoyo de otros en tu misma situación ayuda mucho. \n",
    "$$ $$\n",
    "Por otro lado, tienes los distintos estilos de docencia dónde, en muchos casos, te darán un libro como bibliografía básica y una frase: ‘El contenido del examen es este libro, si tenéis dudas me podéis escribir un e-mail’. Qué, como todo, tiene sus cosas buenas y sus cosas malas, como se verá más adelante."
   ]
  },
  {
   "cell_type": "markdown",
   "metadata": {},
   "source": [
    "Otros tratan de hacer video clases, un esfuerzo que es de agradecer, si bien a muchos docentes de la presencial se les notaba que aquello les pillaba a contrapié. Lo cual es comprensible, un curso bien organizado es un ciclo de ensayo-error que abarca un varios años académicos hasta que lo pules y TOMA, adáptalo a un sistema a distancia en 3 semanas o menos porqué si, que no, que espera, chapamos las aulas ya.   "
   ]
  },
  {
   "cell_type": "markdown",
   "metadata": {},
   "source": [
    "Pero no quiero que esto sea una descripción de la situación que por desgracia ya conocéis bien y que no habéis tenido la oportunidad de elegir que tuve yo. Así que aquí van mis consejos para estudiantes, seáis de la modalidad que seáis. Y si los vais a necesitar, espero que lo encontréis __con__ tiempo."
   ]
  },
  {
   "cell_type": "markdown",
   "metadata": {},
   "source": [
    "### OR - GA - NI - ZA - CIÓN<a name=\"id2\"></a>  "
   ]
  },
  {
   "cell_type": "markdown",
   "metadata": {},
   "source": [
    "Lo primero que hay que hacer es organizarse. Lo mejor, planificar como repartir el tiempo antes de que empiece el curso. Infórmate, hay mucha disponible pero hay que hacer el esfuerzo de buscar. Las asignaturas tienen guías de como será el curso, como se evaluará, que contenidos hay y, si hay suerte, un cronograma. Búscalos y guárdatelos en una carpeta. Si no están actualizados, los del curso anterior te darán una pista de lo que esperar este año."
   ]
  },
  {
   "cell_type": "markdown",
   "metadata": {},
   "source": [
    "Si no encuentras un cronograma, hazte uno. Tendrás una pista de cuanto tiempo requiere cada asignatura. En la UNED hay estadísticas de matriculados y aprobados de cada asignatura en cada curso, eso sí, la pagina no es fácil de localizar y navegar. Échale un vistazo para ponderar la dificultad de las asignaturas y ver cuales necesitan mayor dedicación."
   ]
  },
  {
   "cell_type": "markdown",
   "metadata": {},
   "source": [
    "![](src=\"https://raw.githubusercontent.com/psiconomicon/blog/gh-pages/images/IMG_0176.jpg\")\n",
    "¿Y una vez tienes la información? Lo que yo hacía es un calendario como el que podéis ver en la imagen. Muy fácil de hacer, cada mes un color y cuanto más cercanos los exámenes, más cálido el color. Personalmente ayuda a poner en perspectiva como vuelan los días a medida que los vas tachando. También, en rojo podéis ver una cuenta atrás, para hacerse una idea de como vas de cara a los exámenes, en Facebook publicaba una ‘Cuenta atrás infernal’ con cierto éxito cuando, todo hay que decirlo, me acordaba de ello.  \n",
    "$$  $$  \n",
    "En la parte inferior se pueden poner las asignaturas que tienes para el cuatrimestre. Yo indicaba curso, asignatura, temario (coloreado según cronograma), tipo de examen, formato (número de preguntas cortas, de desarrollo, si es un test: número de alternativas), tiempo disponible y condiciones, como por ejemplo si los errores restan y cuanto.\n",
    " \n",
    "$$ $$  \n",
    "Es importante añadir las fechas limites de trabajos o prácticas. Así como festivos y tiempo de vacaciones que no vas a poder estudiar. Lo dicho, cuanta más información tengas, mejor podrás gestionar tu tiempo."
   ]
  },
  {
   "cell_type": "markdown",
   "metadata": {},
   "source": [
    "La manera de proceder es muy sencilla, vas tachando los días, los días que estudias apuntas que has estudiado, si has hecho daypos o pruebas de evaluación continua. Cuando terminas un tema lo señalas en el cronograma de abajo. Y así ad infinitum o hasta que acabéis la carrera o Master. "
   ]
  },
  {
   "cell_type": "markdown",
   "metadata": {},
   "source": [
    "### El hábito, hace al estudiante<a name=\"id3\"></a>  "
   ]
  },
  {
   "cell_type": "markdown",
   "metadata": {},
   "source": [
    "Es importante que os vayáis imponiendo una rutina de estudio poco a poco desde el primer día. No es, ni será fácil, pero el cronograma casero del punto anterior ayuda mucho. Hay muchas cosas que te van a apetecer mucho más que sentarte a estudiar, pero hay que hacerlo. Esto me pasaba a mi la primera vez que estudiaba algo nuevo, me costaba entenderlo y, por ende, requería un esfuerzo extra por mi parte que hacía que se me evaporaran las ganas.\n",
    "> ‘¿Que hace un chico como yo, estudiando un tema como este?’"
   ]
  },
  {
   "cell_type": "markdown",
   "metadata": {},
   "source": [
    "Pero si estudias con tiempo, no tienes porqué entenderlo en la primera pasada. En la segunda, ya sabrás un poco más que la primera vez. Estoy hablando claro esta de mi experiencia personal, donde el profesor te da el libro y ya. Si el profesor va dando tema por tema, es la misma dinámica."
   ]
  },
  {
   "cell_type": "markdown",
   "metadata": {},
   "source": [
    "A raíz de lo anterior, reparte lo mas posible el tiempo de estudio. De nada te servirá matarte a estudiar siguiendo estos consejos (o los de cualquier otro) la semana antes del examen si en los 4 meses anteriores has hecho lo mínimo. Si sois estudiantes de Psicología, en Memoria os dirán al final del libro (anda que en buen sitio ponen los consejos de como estudiar), que la practica espaciada en el tiempo ayuda a asentar los conocimientos (Por si no me creíais, ¡sale en los libros!)."
   ]
  },
  {
   "cell_type": "markdown",
   "metadata": {},
   "source": [
    "Las distracciones, el gran enemigo del estudiante a distancia. Y mucho más cuando las herramientas de estudio son a la par fuentes de distracción. Redes sociales, música, correo. Puf, mi consejo:"
   ]
  },
  {
   "cell_type": "markdown",
   "metadata": {},
   "source": [
    "> Tip: Estudiad sin música.  \n",
    "\n",
    "Si queréis escuchar música si o si, que sea musical __instrumental__, desde clásica, piano a las pistas de 2 horas de ‘Epic Music’ que podéis encontrar en Youtube. Pero que no tengan letra. Distrae, tu no lo notas porque te entretiene e igual, ese es el quid de la cuestión, ¿no?"
   ]
  },
  {
   "cell_type": "markdown",
   "metadata": {},
   "source": [
    "Pero todo esto de organizarse es algo bastante personal que requiere inventiva, trabajo y esfuerzo. Los cronogramas __siempre__ son __orientativos__, el tiempo del que se dispone es el que es, la motivación y lo quemado que estés influye en el rendimiento, hay que tomar decisiones duras, como dejar una para septiembre, para otro año o directamente dejar la carrera por un tiempo."
   ]
  },
  {
   "cell_type": "markdown",
   "metadata": {},
   "source": [
    "A veces nadie se acuerda de decirnos que no tener un titulo universitario es algo tan legítimo como tenerlo. Y no, tener un título universitario no te hace más listo o saber más. Es precisamente, al contrario, sabes más de menos, ¿y el Máster? Más de mucho menos. ¿Y el doctorado? Muchísimo de casi nada. Porque esto no deja de ser como el frikismo, que saben mucho de un tema que no conoces y saben mucho de [ponga aquí su __especialidad__], pero no todo sobre [ponga aquí tema __no__ relacionado con su especialidad]."
   ]
  },
  {
   "cell_type": "markdown",
   "metadata": {},
   "source": [
    "En fin, lo dicho. Estos son consejos que me han valido pero la persona que mejor te conoce eres tú, así que _tú te organizas_ y __tú decides__."
   ]
  }
 ],
 "metadata": {
  "kernelspec": {
   "display_name": "Python 3",
   "language": "python",
   "name": "python3"
  },
  "language_info": {
   "codemirror_mode": {
    "name": "ipython",
    "version": 3
   },
   "file_extension": ".py",
   "mimetype": "text/x-python",
   "name": "python",
   "nbconvert_exporter": "python",
   "pygments_lexer": "ipython3",
   "version": "3.7.7"
  }
 },
 "nbformat": 4,
 "nbformat_minor": 4
}
