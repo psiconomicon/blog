{
 "cells": [
  {
   "cell_type": "markdown",
   "metadata": {},
   "source": [
    "# Crítica y defensa de 'La metáfora del ordenador'\n",
    "> La metáfora del ordenador es una de las metáforas más famosas en las ciencias cogntivas y tambien de las más discutidas. He aqui una critca y una defensa. \n",
    "\n",
    "- badges: false\n",
    "- comments: true\n",
    "- author: Victoregb\n",
    "- categories: [psicología, cognición, conductismo, computación]"
   ]
  },
  {
   "cell_type": "markdown",
   "metadata": {},
   "source": [
    "La metáfora del ordenador es una de las más conocidas en cognición. Donde se dice que ‘El cerebro es como un ordenador, donde como si fuera un software, la mente almacena y procesa información.’  \n",
    "Recientemente debatiendo con un colega el me dijo que 'No se veía como un ordenador' y ciertamente esto tiene más relación con la idea que tengamos de lo que es un ordenador que con la metáfora en si. Por lo que vamos a desgranar las posturas que las consideran acertada, errónea o desafortunada.  \n",
    "En resumen: [Si](#id1), [No](#id2) y [Casi](#id3).  "
   ]
  },
  {
   "cell_type": "markdown",
   "metadata": {},
   "source": [
    "__Empecemos desgranado el SI.__ <a name=\"id1\"></a>  \n",
    "El cognitivismo trabaja con representaciones o símbolos. Esto es, información. \n",
    "Pero la información puede aceptar muchas formas. En este vídeo, por ejemplo, hasta que la información de que un extremo no se ha soltado no llega abajo, la bola de tenis se queda suspendida en el aire.  \n",
    "  \n",
    "> youtube: https://www.youtube.com/watch?v=oKb2tCtpvNU "
   ]
  },
  {
   "cell_type": "markdown",
   "metadata": {},
   "source": [
    "Aquí la información toma la forma de energía que se transmite a lo largo del muelle. En el cognitivismo partimos de que la información se codifica de dos maneras distintas, una es estructural (las conexiones neuronales) y la segunda es de actividad neuronal (las neuronas se disparan o inhiben). Para complicar un poco la cosa, ambas interactuando entre sí, modificándose la una a la otra.  \n",
    "Dicho esto, nuestro organismo almacena, procesa, manipula y realiza operaciones con la información dando como resultado una respuesta. No podemos negar que el cerebro tiene un papel importante como hardware. Sin embargo, lo que nos interesa es el software. Nos interesa el como procesamos la información, como nuestro organismo transforma entradas sensoriales en información que computa, transforma y combina con otra información almacenada para emitir una salida determinada. Esto es… [la mente \\*](#id4). Para estudiar esto normalmente se emplea el método científico, donde se elabora una hipótesis (por ejemplo, la arquitectura de una red neuronal) de como se procesa la información para después comparar los resultados obtenidos por tu red neuronal con los de seres humanos y ver como se ajusta. "
   ]
  },
  {
   "cell_type": "markdown",
   "metadata": {},
   "source": [
    "__Visto esto, pasemos al NO.__<a name=\"id2\"></a>     \n",
    "La critica a esto desde una epistemología conductista podría ser triple. La primera es que, al hablar de un hardware y un software, tratamos a este último como una entidad propia. Sin embargo, la naturaleza es monista, es decir, sólo existe una única cosa que es la materia. No pude existir la mente de la misma forma que no existen [los humores](https://es.wikipedia.org/wiki/Teor%C3%ADa_de_los_cuatro_humores) ni [el Éter](https://es.wikipedia.org/wiki/%C3%89ter_(elemento)). Por lo que estudiar el hardware y software’ o cuerpo y [mente \\*\\*](#id5) como algo separado e independiente, sería caer en el dualismo.  \n",
    "La segunda critica es que si aplicamos la ‘navaja de Occam’ el añadir sistemas y constructos como representaciones, buffers o filtros es añadir elementos a la explicación que pueden no sólo no aportar nada más que fárrago a lo que pretendemos aclarar. Por lo que ‘Keep it simple’ es la mejor de las políticas.  \n",
    "Por último, estudiar el software fuera de contexto no tiene sentido de la misma forma que no puedes estudiar el código de un procesador de texto y decir para que se usa. Porque lo mismo sirve para escribir una novela que para hacer arte gráfico. No existe conducta sin contexto y los cerebros sin contexto con emiten conducta. La conducta es la relación del organismo en función del contexto (esto abarca desde el ambiente físico a todo el historial de aprendizaje del sujeto) por lo que eliminar uno de la ecuación para estudiar el comportamiento humano no tiene sentido alguno.  \n",
    "Y si he metido la para por aquí, invito a quien sea a opinar en los comentarios."
   ]
  },
  {
   "cell_type": "markdown",
   "metadata": {},
   "source": [
    "__Y por último, el CASI.__<a name=\"id3\"></a>    \n",
    "¿Esto quiere decir que la metáfora del ordenador sea mala?… depende de lo que tu entiendas por ordenador. Y en entre los que opinan esto estoy yo, pero por bicho raro. Para mi la metáfora tiene sentido siempre y cuando consideres que hardware y software son lo mismo. No me mires así, volvamos al ordenador. ¿Que es el software? 1s y 0s, ¿verdad? Y eso es… exacto, estados del sistema. Sin sistema, no hay estados. Sin hardware, no tienes software porque es una parte intrínseca del sistema. Por lo que la critica del dualismo que se plantea desde una perspectiva conductista desaparece. A veces se confunden las representaciones cognitivas con imágenes o palabras, de una forma similar a confusión existen cuando hablamos de ‘conducta verbal’ y pensamos en el habla. Las representaciones son estados del sistema en el que se codifica información como, por ejemplo, el historial de aprendizaje del sujeto. Por lo que no se están añadiendo a mi parecer, nuevos constructos, si no operativizando una actividad biológica desde un nivel de análisis psicológico. Que tendremos mejores o peores herramientas para estudiar este fenómeno, pero bueno se hace lo que se puede que a fin de cuentas esto es ciencia básica y si no funciona, pues se descarta.  \n",
    "Por último, ni menos importantes, hay intentos por desarrollar teorías que tengan en cuenta que la cognición se realiza siempre en un contexto con el que interactúa y determina como la cognición corporeizada y la teoría de sistemas dinámicos, pero aún no he podido profundizar como a mi me gustaría para formarme una opinión más allá del ‘No tienen mala pinta’.  "
   ]
  },
  {
   "cell_type": "markdown",
   "metadata": {},
   "source": [
    "Dicho todo esto, espero haber aclarado dudas y generado unas cuantas más. \n",
    "Muchas gracias por haber leído hasta aquí, en la bibliografía podréis encontrar lecturas que he consultado para escribir esta entrada y que pueden ser de interés.  "
   ]
  },
  {
   "cell_type": "markdown",
   "metadata": {},
   "source": [
    "\\*<a name=\"id4\"></a>   No me gusta esta palabra porque no tengo ni idea de lo que significa, lo que define y casi ni lo que es.  \n",
    "\\*\\*<a name=\"id5\"></a>  Que la mente englobe tantas cosas y muchas de ellas estén operativizadas como una castaña tampoco ayuda.  "
   ]
  },
  {
   "cell_type": "markdown",
   "metadata": {},
   "source": [
    "__Bibliografía:__"
   ]
  },
  {
   "cell_type": "markdown",
   "metadata": {},
   "source": [
    "Pérez Fernández, V., Gutiérrez Domínguez, M., García García, A., & Gómez Bujedo, J. (2017). _Procesos psicológicos básicos._ Madrid: UNED - Universidad Nacional de Educación a Distancia.  \n",
    "  \n",
    "Gardner, H. (1987). _La nueva ciencia de la mente._ Buenos Aires: Paidós.  \n",
    "  \n",
    "Thagard, P. (2008). _La mente._ Buenos Aires: Katz.  \n",
    "  \n",
    "Sun, R. (2008). _The Cambridge handbook of computational psychology._ Cambridge University Press.  "
   ]
  }
 ],
 "metadata": {
  "kernelspec": {
   "display_name": "Python 3",
   "language": "python",
   "name": "python3"
  },
  "language_info": {
   "codemirror_mode": {
    "name": "ipython",
    "version": 3
   },
   "file_extension": ".py",
   "mimetype": "text/x-python",
   "name": "python",
   "nbconvert_exporter": "python",
   "pygments_lexer": "ipython3",
   "version": "3.8.3"
  }
 },
 "nbformat": 4,
 "nbformat_minor": 4
}
