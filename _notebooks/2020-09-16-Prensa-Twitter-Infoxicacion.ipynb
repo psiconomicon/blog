{
 "cells": [
  {
   "cell_type": "markdown",
   "metadata": {},
   "source": [
    "# Medios en Twitter: Muestras de infoxicación.\n",
    "> Los medios nos estan infoxicando. \n",
    "\n",
    "- badges: false\n",
    "- comments: true\n",
    "- author: Victoregb\n",
    "- categories: [opinión, análsis de datos, COVID]"
   ]
  },
  {
   "cell_type": "markdown",
   "metadata": {},
   "source": [
    "Como españoles residiendo en Alemania hay una cosa que nos ha llamado la atención: Lo descuidados que son aqui con las medidas de prevención frente al coronavirus. Cierto es, que el país no se vio tan afectado como España. Ni tampoco por igual en todas partes, en Bavaria (región muy golpeada por la pandemia), se puede ver con asombro como la gente lleva mascarilla por la calle, mientras que en Hamburgo y alrededores la gente apenas las usa y en las zonas donde es obligatoria, como en los transportes públicos, su uso es relativamente laxo.  "
   ]
  },
  {
   "cell_type": "markdown",
   "metadata": {},
   "source": [
    "Nosotros, que vivimos en una zona poco afectada y que hemos vivido el impacto que ha tenido en España a través de nuestras familias y amigos, seguimos tomando precauciones, como mantener una cierta distancia de seguridad. No nos engañemos, la gente nos mira raro.  "
   ]
  },
  {
   "cell_type": "markdown",
   "metadata": {},
   "source": [
    "Sabemos que hay muchas causas que ayudan a explicar las diferencias en el número de contagios. Sin embargo, hay algo que nos ha llamado la atención y sí puede haber una relación entre el papel de los medios de comunicación durante la pandemia y la actitud de la gente.  "
   ]
  },
  {
   "cell_type": "markdown",
   "metadata": {},
   "source": [
    "Sabemos que twiter no es una muestra representativa de la sociedad, pero eso no se aplica necesariamente a las cuentas de los medios de comunicación. He decidido analizar los twits de 8 medios de comunicación de ambos países, tanto liberales como conservadores, así como nacionales y regionales.  "
   ]
  },
  {
   "cell_type": "markdown",
   "metadata": {},
   "source": [
    "Hemos recopilado los twits entre el 01/01/2020 hasta el 31/08/2020 de _El Pais_, _El mundo_, _La Vanguardia_ y _El Norte de Castilla_ como medios en castellano y en Alemán _Die Welt_, _Frankfurter Allgemeine Zeitung_, _Süddeutsche Zeitung_ y el _Thüringer Allgemeine_.  "
   ]
  },
  {
   "cell_type": "markdown",
   "metadata": {},
   "source": [
    "Uno de los retos a tener en cuenta a la hora de analizar el contenido de los twits es que en el idioma alemán hay una gran cantidad de palabras compuestas lo cual puede falsear las gráficas de dispersión, por lo que hay que tenerlo en cuenta a la hora interpretarlas. \n",
    "Así que aqui tenemos el reto, 6 medios de comunicación, 171.107 twits y 1.777.522 palabras. Más o menos. "
   ]
  },
  {
   "cell_type": "markdown",
   "metadata": {},
   "source": [
    "Dicho esto, vamos a poner un poco de contexto. Los datos de contagios y fallecidos los he sacado de la pagina web _Our World in Data_ por lo que puede diferir un poco de los datos oficiales dados por las autonomías.  "
   ]
  },
  {
   "cell_type": "code",
   "execution_count": 5,
   "metadata": {},
   "outputs": [
    {
     "data": {
      "image/png": "[encoded data removed]",
      "text/plain": [
       "<Figure size 432x288 with 1 Axes>"
      ]
     },
     "metadata": {
      "needs_background": "light"
     },
     "output_type": "display_data"
    }
   ],
   "source": [
    "#collapse-hide\n",
    "import pandas as pd\n",
    "import matplotlib.pyplot as plt\n",
    "\n",
    "lista_palabras = 'https://raw.githubusercontent.com/psiconomicon/blog/master/assets/lista_palabras.csv'\n",
    "casos_decesos = 'https://raw.githubusercontent.com/psiconomicon/blog/master/assets/casos_decesos.csv'\n",
    "\n",
    "df_palabras = pd.read_csv(lista_palabras)\n",
    "df_palabras['date'] = pd.DatetimeIndex(df_palabras.date)\n",
    "    \n",
    "df_casos = pd.read_csv(casos_decesos)\n",
    "df_casos['date'] = pd.DatetimeIndex(df_casos.date)\n",
    "\n",
    "ini_confina = pd.to_datetime('2020-03-15 00:00:00')\n",
    "fin_confina = pd.to_datetime('2020-06-20 00:00:00')\n",
    "\n",
    "fig, ax1 = plt.subplots()\n",
    "ax1.bar(df_casos.date, df_casos.new_cases_ESP);\n",
    "ax1.bar(df_casos.date, df_casos.new_deaths_ESP);\n",
    "ax1.legend(['Casos', 'Fallecidos'], loc='best');\n",
    "ax1.grid(alpha=0.1)\n",
    "plt.xticks(rotation=45);\n",
    "plt.axvspan(ini_confina, fin_confina, facecolor='red', alpha=0.1)\n",
    "fig.text(0.50, 0.4, '@victoregb', fontsize=25, color='gray',rotation=35, alpha=0.2);"
   ]
  },
  {
   "cell_type": "markdown",
   "metadata": {},
   "source": [
    "Este grafico muestra los nuevos casos registrados diariamente y la sección en fondo rojo el confinamiento en España. Como podemos la  observar da la sensación de que la segunda ola es ahora tan grande como la primera.  Pero como mostraron datadista esto es un error. Vamos a hacer nuestra propia versión. Gracias al estudio de Seroprevalencia, ahora sabemos que durante la primera ola, sólo detectábamos un contagiado de cada 10. Por suerte, las técnicas han mejorado y estimamos que ahora detectamos a 7 de cada 10. Y eso en que se traduce:\n",
    "Exacto, la nueva estimación es que ahora no estamos ni de lejos tan mal como durante la primera ola. Y si tomamos lo que indicaba Tomas Pueyo, el confinamiento fue el martillo para doblar la curva, y ahora estamos viviendo la danza."
   ]
  },
  {
   "cell_type": "code",
   "execution_count": 10,
   "metadata": {},
   "outputs": [
    {
     "data": {
      "text/html": [
       "\n",
       "<div id=\"altair-viz-5360a827ff9f4056a3618161851636b2\"></div>\n",
       "<script type=\"text/javascript\">\n",
       "  (function(spec, embedOpt){\n",
       "    let outputDiv = document.currentScript.previousElementSibling;\n",
       "    if (outputDiv.id !== \"altair-viz-5360a827ff9f4056a3618161851636b2\") {\n",
       "      outputDiv = document.getElementById(\"altair-viz-5360a827ff9f4056a3618161851636b2\");\n",
       "    }\n",
       "    const paths = {\n",
       "      \"vega\": \"https://cdn.jsdelivr.net/npm//vega@5?noext\",\n",
       "      \"vega-lib\": \"https://cdn.jsdelivr.net/npm//vega-lib?noext\",\n",
       "      \"vega-lite\": \"https://cdn.jsdelivr.net/npm//vega-lite@4.8.1?noext\",\n",
       "      \"vega-embed\": \"https://cdn.jsdelivr.net/npm//vega-embed@6?noext\",\n",
       "    };\n",
       "\n",
       "    function loadScript(lib) {\n",
       "      return new Promise(function(resolve, reject) {\n",
       "        var s = document.createElement('script');\n",
       "        s.src = paths[lib];\n",
       "        s.async = true;\n",
       "        s.onload = () => resolve(paths[lib]);\n",
       "        s.onerror = () => reject(`Error loading script: ${paths[lib]}`);\n",
       "        document.getElementsByTagName(\"head\")[0].appendChild(s);\n",
       "      });\n",
       "    }\n",
       "\n",
       "    function showError(err) {\n",
       "      outputDiv.innerHTML = `<div class=\"error\" style=\"color:red;\">${err}</div>`;\n",
       "      throw err;\n",
       "    }\n",
       "\n",
       "    function displayChart(vegaEmbed) {\n",
       "      vegaEmbed(outputDiv, spec, embedOpt)\n",
       "        .catch(err => showError(`Javascript Error: ${err.message}<br>This usually means there's a typo in your chart specification. See the javascript console for the full traceback.`));\n",
       "    }\n",
       "\n",
       "    if(typeof define === \"function\" && define.amd) {\n",
       "      requirejs.config({paths});\n",
       "      require([\"vega-embed\"], displayChart, err => showError(`Error loading script: ${err.message}`));\n",
       "    } else if (typeof vegaEmbed === \"function\") {\n",
       "      displayChart(vegaEmbed);\n",
       "    } else {\n",
       "      loadScript(\"vega\")\n",
       "        .then(() => loadScript(\"vega-lite\"))\n",
       "        .then(() => loadScript(\"vega-embed\"))\n",
       "        .catch(showError)\n",
       "        .then(() => displayChart(vegaEmbed));\n",
       "    }\n",
       "  })({\"config\": {\"view\": {\"continuousWidth\": 400, \"continuousHeight\": 300}}, \"layer\": [{\"layer\": [{\"data\": {\"url\": \"http://localhost:22211/1c76f6e07578bb059404b04228d46d4c.json\"}, \"mark\": {\"type\": \"rect\", \"color\": \"firebrick\", \"opacity\": 0.1}, \"encoding\": {\"x\": {\"type\": \"temporal\", \"field\": \"x_min\"}, \"x2\": {\"field\": \"x_max\"}, \"y\": {\"type\": \"quantitative\", \"field\": \"y_min\"}, \"y2\": {\"field\": \"y_max\"}}, \"selection\": {\"selector004\": {\"type\": \"interval\", \"bind\": \"scales\", \"encodings\": [\"x\", \"y\"]}}}, {\"data\": {\"url\": \"http://localhost:22211/29bed0eafbc73be924284ebc1e66b746.json\"}, \"mark\": {\"type\": \"bar\", \"opacity\": 0.1}, \"encoding\": {\"x\": {\"type\": \"temporal\", \"field\": \"date\", \"title\": \"Fecha\"}, \"y\": {\"type\": \"quantitative\", \"field\": \"new_cases_est_ESP\", \"title\": \"Casos\"}}}, {\"data\": {\"url\": \"http://localhost:22211/29bed0eafbc73be924284ebc1e66b746.json\"}, \"mark\": {\"type\": \"bar\", \"color\": \"orange\", \"opacity\": 0.1}, \"encoding\": {\"x\": {\"type\": \"temporal\", \"field\": \"date\", \"title\": \"Fecha\"}, \"y\": {\"type\": \"quantitative\", \"field\": \"new_deaths_ESP\"}}}]}], \"$schema\": \"https://vega.github.io/schema/vega-lite/v4.8.1.json\"}, {\"mode\": \"vega-lite\"});\n",
       "</script>"
      ],
      "text/plain": [
       "alt.LayerChart(...)"
      ]
     },
     "execution_count": 10,
     "metadata": {},
     "output_type": "execute_result"
    }
   ],
   "source": [
    "#collapse-hide\n",
    "\n",
    "confin_est = alt.Chart(confina_est_df).mark_rect(color='firebrick', opacity=0.1).encode(\n",
    "    x='x_min:T',\n",
    "    x2='x_max:T',\n",
    "    y='y_min:Q',\n",
    "    y2='y_max:Q')\n",
    "\n",
    "casos_est = base1.mark_bar(opacity=0.1).encode(x=alt.X('date:T', title='Fecha'), \n",
    "                                           y=alt.Y('new_cases_est_ESP:Q', title=\"Casos\"))\n",
    "decesos = base1.mark_bar(color='orange',opacity=0.1).encode(x=alt.X('date:T', title='Fecha'), \n",
    "                                           y=alt.Y('new_deaths_ESP:Q'))\n",
    "\n",
    "\n",
    "alt.layer(confin_est + casos_est + decesos).interactive()"
   ]
  },
  {
   "cell_type": "markdown",
   "metadata": {},
   "source": [
    "Es normal que los casos suban y bajen. Hay tener en cuenta que aunque los datos pareca que se repitan de nuevo, no es la misma historia. \n",
    "¿Y lo medios de comunicación entonces? Vamos a comparar el grafico de casos estimados con las noticias. La situación ha mejorado, pero sigue habiendo una gran cantidad de noticias sobre casos y el virus. Entiendo que sea un tema de actualidad, pero la omnipresencia en los medios afecta a nuestra percepción de la realidad. "
   ]
  },
  {
   "cell_type": "code",
   "execution_count": 11,
   "metadata": {},
   "outputs": [],
   "source": [
    "#collapse-hide\n",
    "medios_ESP = ['El Pais', 'El Mundo', 'La Vanguardia', 'El Norte de Castilla']\n",
    "medio_ALE =['Die Welt','Frankfurter Allgemeine Zeitung', 'Thüringer Allgemeine', 'Süddeutsche Zeitung']\n",
    "\n",
    "\n",
    "base2 = alt.Chart(df_palabras)\n",
    "\n",
    "chart = alt.vconcat()\n",
    "for i in medios_ESP:\n",
    "    chart |= base2.mark_tick(opacity=0.1).encode(x=alt.X('date:T', title='Fecha'), \n",
    "                                                   y=alt.Y('texto:N', title=\"Palabras en \"+i),\n",
    "                                                   color=(alt.Color('texto:N', legend=None))).transform_filter(datum.medio == i)"
   ]
  },
  {
   "cell_type": "code",
   "execution_count": 12,
   "metadata": {},
   "outputs": [
    {
     "data": {
      "text/html": [
       "\n",
       "<div id=\"altair-viz-d82010bb4127411280b2d3c24924954c\"></div>\n",
       "<script type=\"text/javascript\">\n",
       "  (function(spec, embedOpt){\n",
       "    let outputDiv = document.currentScript.previousElementSibling;\n",
       "    if (outputDiv.id !== \"altair-viz-d82010bb4127411280b2d3c24924954c\") {\n",
       "      outputDiv = document.getElementById(\"altair-viz-d82010bb4127411280b2d3c24924954c\");\n",
       "    }\n",
       "    const paths = {\n",
       "      \"vega\": \"https://cdn.jsdelivr.net/npm//vega@5?noext\",\n",
       "      \"vega-lib\": \"https://cdn.jsdelivr.net/npm//vega-lib?noext\",\n",
       "      \"vega-lite\": \"https://cdn.jsdelivr.net/npm//vega-lite@4.8.1?noext\",\n",
       "      \"vega-embed\": \"https://cdn.jsdelivr.net/npm//vega-embed@6?noext\",\n",
       "    };\n",
       "\n",
       "    function loadScript(lib) {\n",
       "      return new Promise(function(resolve, reject) {\n",
       "        var s = document.createElement('script');\n",
       "        s.src = paths[lib];\n",
       "        s.async = true;\n",
       "        s.onload = () => resolve(paths[lib]);\n",
       "        s.onerror = () => reject(`Error loading script: ${paths[lib]}`);\n",
       "        document.getElementsByTagName(\"head\")[0].appendChild(s);\n",
       "      });\n",
       "    }\n",
       "\n",
       "    function showError(err) {\n",
       "      outputDiv.innerHTML = `<div class=\"error\" style=\"color:red;\">${err}</div>`;\n",
       "      throw err;\n",
       "    }\n",
       "\n",
       "    function displayChart(vegaEmbed) {\n",
       "      vegaEmbed(outputDiv, spec, embedOpt)\n",
       "        .catch(err => showError(`Javascript Error: ${err.message}<br>This usually means there's a typo in your chart specification. See the javascript console for the full traceback.`));\n",
       "    }\n",
       "\n",
       "    if(typeof define === \"function\" && define.amd) {\n",
       "      requirejs.config({paths});\n",
       "      require([\"vega-embed\"], displayChart, err => showError(`Error loading script: ${err.message}`));\n",
       "    } else if (typeof vegaEmbed === \"function\") {\n",
       "      displayChart(vegaEmbed);\n",
       "    } else {\n",
       "      loadScript(\"vega\")\n",
       "        .then(() => loadScript(\"vega-lite\"))\n",
       "        .then(() => loadScript(\"vega-embed\"))\n",
       "        .catch(showError)\n",
       "        .then(() => displayChart(vegaEmbed));\n",
       "    }\n",
       "  })({\"config\": {\"view\": {\"continuousWidth\": 400, \"continuousHeight\": 300}}, \"layer\": [{\"layer\": [{\"data\": {\"url\": \"http://localhost:22211/1c76f6e07578bb059404b04228d46d4c.json\"}, \"mark\": {\"type\": \"rect\", \"color\": \"firebrick\", \"opacity\": 0.1}, \"encoding\": {\"x\": {\"type\": \"temporal\", \"field\": \"x_min\"}, \"x2\": {\"field\": \"x_max\"}, \"y\": {\"type\": \"quantitative\", \"field\": \"y_min\"}, \"y2\": {\"field\": \"y_max\"}}}, {\"data\": {\"url\": \"http://localhost:22211/29bed0eafbc73be924284ebc1e66b746.json\"}, \"mark\": {\"type\": \"bar\", \"opacity\": 0.1}, \"encoding\": {\"x\": {\"type\": \"temporal\", \"field\": \"date\", \"title\": \"Fecha\"}, \"y\": {\"type\": \"quantitative\", \"field\": \"new_cases_est_ESP\", \"title\": \"Casos\"}}}, {\"data\": {\"url\": \"http://localhost:22211/29bed0eafbc73be924284ebc1e66b746.json\"}, \"mark\": {\"type\": \"bar\", \"color\": \"orange\", \"opacity\": 0.1}, \"encoding\": {\"x\": {\"type\": \"temporal\", \"field\": \"date\", \"title\": \"Fecha\"}, \"y\": {\"type\": \"quantitative\", \"field\": \"new_deaths_ESP\"}}}]}], \"$schema\": \"https://vega.github.io/schema/vega-lite/v4.8.1.json\"}, {\"mode\": \"vega-lite\"});\n",
       "</script>"
      ],
      "text/plain": [
       "alt.LayerChart(...)"
      ]
     },
     "execution_count": 12,
     "metadata": {},
     "output_type": "execute_result"
    }
   ],
   "source": [
    "#hide\n",
    "alt.layer(confin_est + casos_est + decesos)"
   ]
  },
  {
   "cell_type": "code",
   "execution_count": 13,
   "metadata": {},
   "outputs": [
    {
     "data": {
      "text/html": [
       "\n",
       "<div id=\"altair-viz-db4d1c6a925b41048088064fe9918cfc\"></div>\n",
       "<script type=\"text/javascript\">\n",
       "  (function(spec, embedOpt){\n",
       "    let outputDiv = document.currentScript.previousElementSibling;\n",
       "    if (outputDiv.id !== \"altair-viz-db4d1c6a925b41048088064fe9918cfc\") {\n",
       "      outputDiv = document.getElementById(\"altair-viz-db4d1c6a925b41048088064fe9918cfc\");\n",
       "    }\n",
       "    const paths = {\n",
       "      \"vega\": \"https://cdn.jsdelivr.net/npm//vega@5?noext\",\n",
       "      \"vega-lib\": \"https://cdn.jsdelivr.net/npm//vega-lib?noext\",\n",
       "      \"vega-lite\": \"https://cdn.jsdelivr.net/npm//vega-lite@4.8.1?noext\",\n",
       "      \"vega-embed\": \"https://cdn.jsdelivr.net/npm//vega-embed@6?noext\",\n",
       "    };\n",
       "\n",
       "    function loadScript(lib) {\n",
       "      return new Promise(function(resolve, reject) {\n",
       "        var s = document.createElement('script');\n",
       "        s.src = paths[lib];\n",
       "        s.async = true;\n",
       "        s.onload = () => resolve(paths[lib]);\n",
       "        s.onerror = () => reject(`Error loading script: ${paths[lib]}`);\n",
       "        document.getElementsByTagName(\"head\")[0].appendChild(s);\n",
       "      });\n",
       "    }\n",
       "\n",
       "    function showError(err) {\n",
       "      outputDiv.innerHTML = `<div class=\"error\" style=\"color:red;\">${err}</div>`;\n",
       "      throw err;\n",
       "    }\n",
       "\n",
       "    function displayChart(vegaEmbed) {\n",
       "      vegaEmbed(outputDiv, spec, embedOpt)\n",
       "        .catch(err => showError(`Javascript Error: ${err.message}<br>This usually means there's a typo in your chart specification. See the javascript console for the full traceback.`));\n",
       "    }\n",
       "\n",
       "    if(typeof define === \"function\" && define.amd) {\n",
       "      requirejs.config({paths});\n",
       "      require([\"vega-embed\"], displayChart, err => showError(`Error loading script: ${err.message}`));\n",
       "    } else if (typeof vegaEmbed === \"function\") {\n",
       "      displayChart(vegaEmbed);\n",
       "    } else {\n",
       "      loadScript(\"vega\")\n",
       "        .then(() => loadScript(\"vega-lite\"))\n",
       "        .then(() => loadScript(\"vega-embed\"))\n",
       "        .catch(showError)\n",
       "        .then(() => displayChart(vegaEmbed));\n",
       "    }\n",
       "  })({\"config\": {\"view\": {\"continuousWidth\": 400, \"continuousHeight\": 300}}, \"hconcat\": [{\"vconcat\": []}, {\"data\": {\"url\": \"http://localhost:22211/0161acb39eba1f3ba0358055fc88a54a.json\"}, \"mark\": {\"type\": \"tick\", \"opacity\": 0.1}, \"encoding\": {\"color\": {\"type\": \"nominal\", \"field\": \"texto\", \"legend\": null}, \"x\": {\"type\": \"temporal\", \"field\": \"date\", \"title\": \"Fecha\"}, \"y\": {\"type\": \"nominal\", \"field\": \"texto\", \"title\": \"Palabras en El Pais\"}}, \"transform\": [{\"filter\": \"(datum.medio === 'El Pais')\"}]}, {\"data\": {\"url\": \"http://localhost:22211/0161acb39eba1f3ba0358055fc88a54a.json\"}, \"mark\": {\"type\": \"tick\", \"opacity\": 0.1}, \"encoding\": {\"color\": {\"type\": \"nominal\", \"field\": \"texto\", \"legend\": null}, \"x\": {\"type\": \"temporal\", \"field\": \"date\", \"title\": \"Fecha\"}, \"y\": {\"type\": \"nominal\", \"field\": \"texto\", \"title\": \"Palabras en El Mundo\"}}, \"transform\": [{\"filter\": \"(datum.medio === 'El Mundo')\"}]}, {\"data\": {\"url\": \"http://localhost:22211/0161acb39eba1f3ba0358055fc88a54a.json\"}, \"mark\": {\"type\": \"tick\", \"opacity\": 0.1}, \"encoding\": {\"color\": {\"type\": \"nominal\", \"field\": \"texto\", \"legend\": null}, \"x\": {\"type\": \"temporal\", \"field\": \"date\", \"title\": \"Fecha\"}, \"y\": {\"type\": \"nominal\", \"field\": \"texto\", \"title\": \"Palabras en La Vanguardia\"}}, \"transform\": [{\"filter\": \"(datum.medio === 'La Vanguardia')\"}]}, {\"data\": {\"url\": \"http://localhost:22211/0161acb39eba1f3ba0358055fc88a54a.json\"}, \"mark\": {\"type\": \"tick\", \"opacity\": 0.1}, \"encoding\": {\"color\": {\"type\": \"nominal\", \"field\": \"texto\", \"legend\": null}, \"x\": {\"type\": \"temporal\", \"field\": \"date\", \"title\": \"Fecha\"}, \"y\": {\"type\": \"nominal\", \"field\": \"texto\", \"title\": \"Palabras en El Norte de Castilla\"}}, \"transform\": [{\"filter\": \"(datum.medio === 'El Norte de Castilla')\"}]}], \"$schema\": \"https://vega.github.io/schema/vega-lite/v4.8.1.json\"}, {\"mode\": \"vega-lite\"});\n",
       "</script>"
      ],
      "text/plain": [
       "alt.HConcatChart(...)"
      ]
     },
     "execution_count": 13,
     "metadata": {},
     "output_type": "execute_result"
    }
   ],
   "source": [
    "#hide\n",
    "chart"
   ]
  },
  {
   "cell_type": "markdown",
   "metadata": {},
   "source": [
    "¿Y los alemanes?  \n",
    "Ellos no han tenido un confinamiento tan estricto como en españa, debido al rechazo que la idea generaba en aquellos que aun recuerdan el muro que separó a las dos alemanias y de la preocupación del aumento de la violencia de genero y los abusos infantiles. Por esta razón no añadiremos un indicador de confinamiento a su grafia. Tampoco he localizado estimaciones de casos reales por lo que pondremos un grafica de los datos que han dado. \n",
    "Tras retocar un poco la base de datos para que palabras compuestas cuenten como sus sinónimos simples, como por ejemplo, _neuinfektionen_ (nuevos infectados) por _infektionen_ (infectados). _Corona_ es otro ejemplo maravilloso, porque tiene _Coronavirus_,  _Coronakrise_ o _Coronapandemie_, pero bueno, nos quedamos con un par de clasicos universales: _Corona_ y _Coronavirus_.\n"
   ]
  },
  {
   "cell_type": "code",
   "execution_count": 14,
   "metadata": {},
   "outputs": [],
   "source": [
    "#hide-colaps\n",
    "casos2 = base1.mark_bar(opacity=0.1).encode(x=alt.X('date:T', title='Fecha'), \n",
    "                                           y=alt.Y('new_cases_ALE:Q', title=\"Casos\"))\n",
    "decesos2 = base1.mark_bar(color='orange',opacity=0.1).encode(x=alt.X('date:T', title='Fecha'), \n",
    "                                           y=alt.Y('new_deaths_ALE:Q'))\n",
    "\n",
    "\n",
    "plot2 = alt.vconcat()\n",
    "for i in medio_ALE:\n",
    "    plot2 |= base2.mark_tick(opacity=0.1).encode(x=alt.X('date:T', title='Fecha'), \n",
    "                                                   y=alt.Y('texto:N', title=\"Palabras en \"+i),\n",
    "                                                   color=(alt.Color('texto:N', legend=None))).transform_filter(datum.medio == i)"
   ]
  },
  {
   "cell_type": "code",
   "execution_count": 15,
   "metadata": {},
   "outputs": [
    {
     "data": {
      "text/html": [
       "\n",
       "<div id=\"altair-viz-3bf256ea7ec64be5aeb841f5f22a675e\"></div>\n",
       "<script type=\"text/javascript\">\n",
       "  (function(spec, embedOpt){\n",
       "    let outputDiv = document.currentScript.previousElementSibling;\n",
       "    if (outputDiv.id !== \"altair-viz-3bf256ea7ec64be5aeb841f5f22a675e\") {\n",
       "      outputDiv = document.getElementById(\"altair-viz-3bf256ea7ec64be5aeb841f5f22a675e\");\n",
       "    }\n",
       "    const paths = {\n",
       "      \"vega\": \"https://cdn.jsdelivr.net/npm//vega@5?noext\",\n",
       "      \"vega-lib\": \"https://cdn.jsdelivr.net/npm//vega-lib?noext\",\n",
       "      \"vega-lite\": \"https://cdn.jsdelivr.net/npm//vega-lite@4.8.1?noext\",\n",
       "      \"vega-embed\": \"https://cdn.jsdelivr.net/npm//vega-embed@6?noext\",\n",
       "    };\n",
       "\n",
       "    function loadScript(lib) {\n",
       "      return new Promise(function(resolve, reject) {\n",
       "        var s = document.createElement('script');\n",
       "        s.src = paths[lib];\n",
       "        s.async = true;\n",
       "        s.onload = () => resolve(paths[lib]);\n",
       "        s.onerror = () => reject(`Error loading script: ${paths[lib]}`);\n",
       "        document.getElementsByTagName(\"head\")[0].appendChild(s);\n",
       "      });\n",
       "    }\n",
       "\n",
       "    function showError(err) {\n",
       "      outputDiv.innerHTML = `<div class=\"error\" style=\"color:red;\">${err}</div>`;\n",
       "      throw err;\n",
       "    }\n",
       "\n",
       "    function displayChart(vegaEmbed) {\n",
       "      vegaEmbed(outputDiv, spec, embedOpt)\n",
       "        .catch(err => showError(`Javascript Error: ${err.message}<br>This usually means there's a typo in your chart specification. See the javascript console for the full traceback.`));\n",
       "    }\n",
       "\n",
       "    if(typeof define === \"function\" && define.amd) {\n",
       "      requirejs.config({paths});\n",
       "      require([\"vega-embed\"], displayChart, err => showError(`Error loading script: ${err.message}`));\n",
       "    } else if (typeof vegaEmbed === \"function\") {\n",
       "      displayChart(vegaEmbed);\n",
       "    } else {\n",
       "      loadScript(\"vega\")\n",
       "        .then(() => loadScript(\"vega-lite\"))\n",
       "        .then(() => loadScript(\"vega-embed\"))\n",
       "        .catch(showError)\n",
       "        .then(() => displayChart(vegaEmbed));\n",
       "    }\n",
       "  })({\"config\": {\"view\": {\"continuousWidth\": 400, \"continuousHeight\": 300}}, \"layer\": [{\"layer\": [{\"mark\": {\"type\": \"bar\", \"opacity\": 0.1}, \"encoding\": {\"x\": {\"type\": \"temporal\", \"field\": \"date\", \"title\": \"Fecha\"}, \"y\": {\"type\": \"quantitative\", \"field\": \"new_cases_ALE\", \"title\": \"Casos\"}}}, {\"mark\": {\"type\": \"bar\", \"color\": \"orange\", \"opacity\": 0.1}, \"encoding\": {\"x\": {\"type\": \"temporal\", \"field\": \"date\", \"title\": \"Fecha\"}, \"y\": {\"type\": \"quantitative\", \"field\": \"new_deaths_ALE\"}}}]}], \"data\": {\"url\": \"http://localhost:22211/29bed0eafbc73be924284ebc1e66b746.json\"}, \"$schema\": \"https://vega.github.io/schema/vega-lite/v4.8.1.json\"}, {\"mode\": \"vega-lite\"});\n",
       "</script>"
      ],
      "text/plain": [
       "alt.LayerChart(...)"
      ]
     },
     "execution_count": 15,
     "metadata": {},
     "output_type": "execute_result"
    }
   ],
   "source": [
    "#hide\n",
    "alt.layer(casos2 + decesos2)"
   ]
  },
  {
   "cell_type": "code",
   "execution_count": 16,
   "metadata": {},
   "outputs": [
    {
     "data": {
      "text/html": [
       "\n",
       "<div id=\"altair-viz-bcb5a9bb15d34da2937a60c5dc99457d\"></div>\n",
       "<script type=\"text/javascript\">\n",
       "  (function(spec, embedOpt){\n",
       "    let outputDiv = document.currentScript.previousElementSibling;\n",
       "    if (outputDiv.id !== \"altair-viz-bcb5a9bb15d34da2937a60c5dc99457d\") {\n",
       "      outputDiv = document.getElementById(\"altair-viz-bcb5a9bb15d34da2937a60c5dc99457d\");\n",
       "    }\n",
       "    const paths = {\n",
       "      \"vega\": \"https://cdn.jsdelivr.net/npm//vega@5?noext\",\n",
       "      \"vega-lib\": \"https://cdn.jsdelivr.net/npm//vega-lib?noext\",\n",
       "      \"vega-lite\": \"https://cdn.jsdelivr.net/npm//vega-lite@4.8.1?noext\",\n",
       "      \"vega-embed\": \"https://cdn.jsdelivr.net/npm//vega-embed@6?noext\",\n",
       "    };\n",
       "\n",
       "    function loadScript(lib) {\n",
       "      return new Promise(function(resolve, reject) {\n",
       "        var s = document.createElement('script');\n",
       "        s.src = paths[lib];\n",
       "        s.async = true;\n",
       "        s.onload = () => resolve(paths[lib]);\n",
       "        s.onerror = () => reject(`Error loading script: ${paths[lib]}`);\n",
       "        document.getElementsByTagName(\"head\")[0].appendChild(s);\n",
       "      });\n",
       "    }\n",
       "\n",
       "    function showError(err) {\n",
       "      outputDiv.innerHTML = `<div class=\"error\" style=\"color:red;\">${err}</div>`;\n",
       "      throw err;\n",
       "    }\n",
       "\n",
       "    function displayChart(vegaEmbed) {\n",
       "      vegaEmbed(outputDiv, spec, embedOpt)\n",
       "        .catch(err => showError(`Javascript Error: ${err.message}<br>This usually means there's a typo in your chart specification. See the javascript console for the full traceback.`));\n",
       "    }\n",
       "\n",
       "    if(typeof define === \"function\" && define.amd) {\n",
       "      requirejs.config({paths});\n",
       "      require([\"vega-embed\"], displayChart, err => showError(`Error loading script: ${err.message}`));\n",
       "    } else if (typeof vegaEmbed === \"function\") {\n",
       "      displayChart(vegaEmbed);\n",
       "    } else {\n",
       "      loadScript(\"vega\")\n",
       "        .then(() => loadScript(\"vega-lite\"))\n",
       "        .then(() => loadScript(\"vega-embed\"))\n",
       "        .catch(showError)\n",
       "        .then(() => displayChart(vegaEmbed));\n",
       "    }\n",
       "  })({\"config\": {\"view\": {\"continuousWidth\": 400, \"continuousHeight\": 300}}, \"hconcat\": [{\"vconcat\": []}, {\"data\": {\"url\": \"http://localhost:22211/0161acb39eba1f3ba0358055fc88a54a.json\"}, \"mark\": {\"type\": \"tick\", \"opacity\": 0.1}, \"encoding\": {\"color\": {\"type\": \"nominal\", \"field\": \"texto\", \"legend\": null}, \"x\": {\"type\": \"temporal\", \"field\": \"date\", \"title\": \"Fecha\"}, \"y\": {\"type\": \"nominal\", \"field\": \"texto\", \"title\": \"Palabras en Die Welt\"}}, \"transform\": [{\"filter\": \"(datum.medio === 'Die Welt')\"}]}, {\"data\": {\"url\": \"http://localhost:22211/0161acb39eba1f3ba0358055fc88a54a.json\"}, \"mark\": {\"type\": \"tick\", \"opacity\": 0.1}, \"encoding\": {\"color\": {\"type\": \"nominal\", \"field\": \"texto\", \"legend\": null}, \"x\": {\"type\": \"temporal\", \"field\": \"date\", \"title\": \"Fecha\"}, \"y\": {\"type\": \"nominal\", \"field\": \"texto\", \"title\": \"Palabras en Frankfurter Allgemeine Zeitung\"}}, \"transform\": [{\"filter\": \"(datum.medio === 'Frankfurter Allgemeine Zeitung')\"}]}, {\"data\": {\"url\": \"http://localhost:22211/0161acb39eba1f3ba0358055fc88a54a.json\"}, \"mark\": {\"type\": \"tick\", \"opacity\": 0.1}, \"encoding\": {\"color\": {\"type\": \"nominal\", \"field\": \"texto\", \"legend\": null}, \"x\": {\"type\": \"temporal\", \"field\": \"date\", \"title\": \"Fecha\"}, \"y\": {\"type\": \"nominal\", \"field\": \"texto\", \"title\": \"Palabras en Th\\u00fcringer Allgemeine\"}}, \"transform\": [{\"filter\": \"(datum.medio === 'Th\\u00fcringer Allgemeine')\"}]}, {\"data\": {\"url\": \"http://localhost:22211/0161acb39eba1f3ba0358055fc88a54a.json\"}, \"mark\": {\"type\": \"tick\", \"opacity\": 0.1}, \"encoding\": {\"color\": {\"type\": \"nominal\", \"field\": \"texto\", \"legend\": null}, \"x\": {\"type\": \"temporal\", \"field\": \"date\", \"title\": \"Fecha\"}, \"y\": {\"type\": \"nominal\", \"field\": \"texto\", \"title\": \"Palabras en S\\u00fcddeutsche Zeitung\"}}, \"transform\": [{\"filter\": \"(datum.medio === 'S\\u00fcddeutsche Zeitung')\"}]}], \"$schema\": \"https://vega.github.io/schema/vega-lite/v4.8.1.json\"}, {\"mode\": \"vega-lite\"});\n",
       "</script>"
      ],
      "text/plain": [
       "alt.HConcatChart(...)"
      ]
     },
     "execution_count": 16,
     "metadata": {},
     "output_type": "execute_result"
    }
   ],
   "source": [
    "#hide\n",
    "plot2"
   ]
  },
  {
   "cell_type": "markdown",
   "metadata": {},
   "source": [
    "Se nota la diferencia, ¿verdad? Apenas hacen mención de fallecidos (_todesfälle_). El resto de palabras no necesitan traducción. Como en españa, la COVID es el tema de moda. Pero ni por asomo dan tanta publicidad a los infectados y los fallecidos como en España.   El lector avezado dirá que igual los diagramas de dispersión son más diáfanos porque los medios alemanes tuitean menos, y así es. Sin embargo, jamás diríamos que los alemanes son ajenos a la realidad que les rodea o que estan peor informados que nosotros.\n",
    "Estas situaciones de crisis uno de nuestros peores enemigos es la incertidumbre, pues hace que sea más difícil la toma de decisiones. Es por ello que dependemos de los medios de comunicación para infromarnos. Ahora bien, con la digitalización de la prensa la relación medios consumidor ha cambiado y eso también hay que tenerlo en cuenta.  "
   ]
  },
  {
   "cell_type": "markdown",
   "metadata": {},
   "source": [
    "Todo esto no quiere decir que nos tengamos que relajar o que no haya nada por lo que preocuparse, sino que todo debe hacerse en su justa medida y para ello necesitamos estar bien informados y cuando la incertidumbre impera, ser cautos, actuar con cabeza y no dejarse polarizar.   \n",
    "¡Mucho animo a tod@s!  "
   ]
  }
 ],
 "metadata": {
  "kernelspec": {
   "display_name": "Python 3",
   "language": "python",
   "name": "python3"
  },
  "language_info": {
   "codemirror_mode": {
    "name": "ipython",
    "version": 3
   },
   "file_extension": ".py",
   "mimetype": "text/x-python",
   "name": "python",
   "nbconvert_exporter": "python",
   "pygments_lexer": "ipython3",
   "version": "3.8.5"
  }
 },
 "nbformat": 4,
 "nbformat_minor": 4
}
