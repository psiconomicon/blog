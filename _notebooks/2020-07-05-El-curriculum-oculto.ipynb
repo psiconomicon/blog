{
 "cells": [
  {
   "cell_type": "markdown",
   "metadata": {},
   "source": [
    "# El curriculum oculto\n",
    "> Aqui trato de como un mensaje se transmite, sobre un prejuicio y de monos, escaleras y plátanos.\n",
    "\n",
    "- badges: false\n",
    "- comments: true\n",
    "- author: Victoregb\n",
    "- categories: [opinión, psicología, conductismo, pedagogía]"
   ]
  },
  {
   "cell_type": "markdown",
   "metadata": {},
   "source": [
    "   La primera vez que escuché el término [‘Curriculum oculto’](https://es.wikipedia.org/wiki/Curr%C3%ADculo_oculto) fue en la asignatura de Sociología en Magisterio. Para ponernos es situación, en educación el Curriculum, currículo o currículo formal es donde se establecen los contenidos y metas, la organización y pertinencia de los contenidos, así como la metodología de enseñanza en la escuela. Es decir, el currículo vendría a ser la constitución de la escuela, de ello depende todo lo que se hace en ella.  \n",
    "  "
   ]
  },
  {
   "cell_type": "markdown",
   "metadata": {},
   "source": [
    "   En España, el [currículo básico viene determinado por el estado](http://www.educacionyfp.gob.es/educacion/mc/lomce/curriculo.html) con el fin de garantizar un mínimo de uniformidad, tras lo cual [cada una de las autonomías lo adapta](https://www.educa.jcyl.es/es/informacion/sistema-educativo/educacion-primaria) a su propio sistema educativo.   \n",
    "  "
   ]
  },
  {
   "cell_type": "markdown",
   "metadata": {},
   "source": [
    "   Al regularlo, el curriculum hace explícito lo que queremos enseñar y las habilidades que se considera que el alumnado necesita adquirir. Resumido lo que es un curriculum y qué función cumple entendemos las limitaciones que tiene, durante la docencia y la socialización de los alumnos en la escuela estos aprenden muchas cosas que no están en el curriculum. Algunas de estas cosas son, por ejemplo, ideologías o actitudes que muchas veces se transmiten de forma implícita durante la interacción profesor-alumno. La razón es bien sencilla, toda educación y socialización se produce en un periodo histórico y contexto determinado que influye en el aprendizaje.  \n",
    "   "
   ]
  },
  {
   "cell_type": "markdown",
   "metadata": {},
   "source": [
    "   Sí en un aula de infantil tuviéramos, por ejemplo, un póster con profesiones y hubiera arquitectos, informáticos, científicos, bomberos, policías, médicos, enfermeras, amas de casa, señoras de la limpieza, maestras, psicólogas, cocineras y secretarias.  \n",
    "  "
   ]
  },
  {
   "cell_type": "markdown",
   "metadata": {},
   "source": [
    "   Explícitamente estamos enseñando las profesiones y, a la vez, implícitamente se están transmitiendo otro tipo de información, en este caso en concreto roles de género.  \n",
    "  "
   ]
  },
  {
   "cell_type": "markdown",
   "metadata": {},
   "source": [
    "   Este es un ejemplo muy simple y no, las niñas no van a dejar de querer ser policías o ingenieras por un póster que estaba colgado en la pared cuando tenían 5 años, pero por pequeña y despreciable que pueda ser la influencia no es cero. Además, debemos tener en cuenta que no sería el único elemento del aula, si el profesor transmite también ese tipo de actitudes con su ejemplo tiene más peso y si le sumamos la socialización entre iguales donde en juegos de roles aparezca esa actitud, se termina adquiriendo y normalizando. Sin que nadie haya hecho nada para ello, lo dicho, implícitamente.  \n",
    "  "
   ]
  },
  {
   "cell_type": "markdown",
   "metadata": {},
   "source": [
    "   [Existen mucha investigación y artículos sobre las actitudes sexistas transmitidas en el curriculum junto con las actitudes racistas.](https://scholar.google.com/scholar?hl=es&as_sdt=0%2C5&q=hidden+curriculum&btnG=&oq=hidden+c) Debido a esto, se suele considerar al currículo oculto como algo negativo. Es importante recalcar que no tiene porque serlo, se puede transmitir de forma implícita valores de respeto y tolerancia, aunque no estén indicados en un curriculum formal. Pero como es costumbre, lo que es ‘normal’ pasa desapercibido mientras que lo malo siempre llama la atención.  \n",
    "     "
   ]
  },
  {
   "cell_type": "markdown",
   "metadata": {},
   "source": [
    "   Los estudios sobre el curriculum oculto se centran en los primeros estadios educativos, primaria y secundaria donde por motivos evidentes este tipo de influencia pueden tener efecto durante el desarrollo del alumnado como personas.  \n",
    "  "
   ]
  },
  {
   "cell_type": "markdown",
   "metadata": {},
   "source": [
    "   Y hay que destacar que el curriculum oculto se da en todos los niveles educativos, también en la educación superior donde los estudios se centran en el sexismo. No voy a extenderme sobre esto, otros saben más sobre este tema.  \n",
    "  "
   ]
  },
  {
   "cell_type": "markdown",
   "metadata": {},
   "source": [
    "   Yo quiero llamar la atención sobre un contenido del curriculum oculto universitario que me acompaña desde magisterio y que sólo tras estudiar por mi cuenta empecé a verlo en vivo y en directo en el Grado de Psicología y hasta en el Máster.  \n",
    "     "
   ]
  },
  {
   "cell_type": "markdown",
   "metadata": {},
   "source": [
    "   Y cómo no, tiene que ver con el conductismo.  \n",
    "     "
   ]
  },
  {
   "cell_type": "markdown",
   "metadata": {},
   "source": [
    "   Mi primer contacto con el conductismo fue hace 12 años en magisterio. Recuerdo especialmente una tabla donde se podía leer: “Percibe el aprendizaje como algo mecánico, deshumano y reduccionista”. Por supuesto que en aquel momento no lo dudé. No sabía nada de conductismo y eso del Estimulo-Respuesta en las ratas y palomas en cajas daba a entender que los alumnos no eran más que máquinas de memorizar.  \n",
    "     "
   ]
  },
  {
   "cell_type": "markdown",
   "metadata": {},
   "source": [
    "   Cabe destacar que esto no es algo puntual que he vivido yo, investigando parece que ésta y otras frases son como memes que se repiten y se asumen como verdades en documentos pedagógicos. Exactamente como las actitudes de discriminación tuvieron su origen en algún punto del pasado por alguna razón, y se perpetúan porque ya venia de antes. El sesgo se transmite como un meme y se asimila. Cuando alumnos buscan información y encuentran esto que coincide con lo que espera el docente porque es lo que ha estudiado, lo repiten. No hay intencionalidad ni una conspiración contra el conductismo. Sencillamente es un trozo de información que se repite y marca la concepción que tendrán los futuros profesionales sobre un paradigma. Un mensaje sencillo, ‘pasivo’, ‘mecanicista’, ‘deshumanizador’, ‘premio-castigo’ que no se basa en hechos ni un profundo análisis del conductismo, sino en la transmisión de pareceres en base a preferencias. No fue hasta 5 años después de aquella primera experiencia que no empecé a investigar por mi cuenta, y a ver cómo la información que me encontraba al respecto estaba sesgada y empleando una terminología que provoca una reacción muy clara.  \n",
    "     "
   ]
  },
  {
   "cell_type": "markdown",
   "metadata": {},
   "source": [
    "![](https://github.com/psiconomicon/blog/blob/master/images/Captura%20de%20pantalla%202020-07-02%20a%20las%2011.30.59.png?raw=true)"
   ]
  },
  {
   "cell_type": "markdown",
   "metadata": {},
   "source": [
    "   El ejemplo más reciente ha sido durante el Máster cuando un profesor nos ha facilitado unos apuntes traducidos de un libro. Tras obtener una copia del libro en versión original, noté como en un primer momento se hablaba del conductismo en términos de gigante abatido por otros modelos mejores. Pero lo que más me llamó la atención fueron las frases añadidas por el profesor que no venían en el original haciendo hincapié de las limitaciones del conductismo.  \n",
    "     "
   ]
  },
  {
   "cell_type": "markdown",
   "metadata": {},
   "source": [
    "> twitter: https://twitter.com/Victoregb/status/1253578639783997440"
   ]
  },
  {
   "cell_type": "markdown",
   "metadata": {},
   "source": [
    "> twitter: https://twitter.com/Victoregb/status/1253578642166288385"
   ]
  },
  {
   "cell_type": "markdown",
   "metadata": {},
   "source": [
    "   Es una constante en muy diversos textos, ya sean de hace 60 - 70 años o actuales (algunos copian literalmente frases como la que se me quedó grabada de magisterio). Y en definitiva no es más que algo invisible que se transmite, como un meme. Un sesgo que se perpetua en los contenidos de libros, apuntes y docentes cuya razón última termina siendo, como decían [los monos de la fábula de Gary Hamel y Prahalad, ‘Es que aquí siempre se ha hecho así’.](https://psicologiaymente.com/social/experimento-monos-platanos-escalera#:~:text=La%20f%C3%A1bula%20de%20la%20obediencia%20a%20las%20normas&text=Y%20es%20que%20el%20relato,por%20parte%20de%20un%20grupo.&text=Sin%20embargo%2C%20los%20otros%20monos,sin%20tener%20motivos%20para%20ello.)  \n",
    "   \n",
    "     "
   ]
  },
  {
   "cell_type": "markdown",
   "metadata": {},
   "source": [
    "   Las conclusiones sobre esto, os las dejo a vosotros.  \n",
    "     "
   ]
  },
  {
   "cell_type": "markdown",
   "metadata": {},
   "source": [
    "_Bibliografia:_  \n",
    "  "
   ]
  },
  {
   "cell_type": "markdown",
   "metadata": {},
   "source": [
    "[Curriculum oculto: Los mensajes no visibles del conocimiento educativo](https://dialnet.unirioja.es/servlet/articulo?codigo=208329)"
   ]
  },
  {
   "cell_type": "markdown",
   "metadata": {},
   "source": []
  }
 ],
 "metadata": {
  "kernelspec": {
   "display_name": "Python 3",
   "language": "python",
   "name": "python3"
  },
  "language_info": {
   "codemirror_mode": {
    "name": "ipython",
    "version": 3
   },
   "file_extension": ".py",
   "mimetype": "text/x-python",
   "name": "python",
   "nbconvert_exporter": "python",
   "pygments_lexer": "ipython3",
   "version": "3.7.7"
  }
 },
 "nbformat": 4,
 "nbformat_minor": 4
}
