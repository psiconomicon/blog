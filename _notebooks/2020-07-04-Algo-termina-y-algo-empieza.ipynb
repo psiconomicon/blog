{
 "cells": [
  {
   "cell_type": "markdown",
   "metadata": {},
   "source": [
    "# El pacto de Fausto ha muerto…\n",
    "> Fausto a muerto. Mi antiguo blog cayó hace mucho entre el desuso y el olvido.\n",
    "\n",
    "- badges: false\n",
    "- comments: true\n",
    "- author: Victoregb\n",
    "- categories: [opinion, meta]"
   ]
  },
  {
   "cell_type": "markdown",
   "metadata": {},
   "source": [
    "Fausto a muerto. Mi antiguo blog cayó hace mucho entre el desuso y el olvido. Cuando lo creé siempre supe que acabaría igual que el personaje que le da nombre que, tras consumar el pacto con Mefistófeles a cambio del conocimiento, moriría.  \n",
    "  "
   ]
  },
  {
   "cell_type": "markdown",
   "metadata": {},
   "source": [
    "![](https://upload.wikimedia.org/wikipedia/commons/4/40/Jean_Paul_Laurens_-_Dr._Fausto.jpg \"Jean Paul Laurens - Dr. Fausto / Dominio público\")\n"
   ]
  },
  {
   "cell_type": "markdown",
   "metadata": {},
   "source": [
    "  \n",
    "Y mucho no me equivoqué, a medida que avanzaba en la carrera las ideas iban surgiendo, pero el tiempo para escribir menguaba y al terminar la carrera, la vida desplazó las buenas intenciones de escribir que fui acumulando.  \n",
    "Pero creo que ya es hora de empezar una nueva andadura. El pacto de Fausto hacia referencia a todo aquello que sabia que me faltaba por aprender y el sacrificio que cualquier meta exige. Pero ya no soy sólo un estudiante de Psicología, ahora soy Psicólogo… aunque seamos honestos, cada día sigo aprendiendo sobre psicología. \n",
    "  \n",
    "Voy a escribir en un blog porque se me quedan [escoja su propia aventura: ambiente rancio, polarizado, tóxico, como que me da cosilla escribir no vayan a venir los tiburones] de las redes sociales. Quiero un blog donde pueda dar mi opinión, aportar argumentos de porque considero alguna cosa y a la vez, sentirme a gusto. Quiero un blog donde ser fiel a mis principios de una psicología científica basadas en las dos epistemologías que me han conquistado: El conductismo y el cognitivismo.  \n",
    "  \n",
    " Juntos, Conductismo y Cognitivismo, pero no revueltos como en cognitivo-conductual. No todas las preguntas se pueden responder desde una misma filosofía, ya sea porque la pregunta va más allá de sus limites, sea irrelevante o porque entre en conflicto con sus principios. Pero que una pregunta no sea pertinente para una epistemología no quiere decir que la pregunta sea irrelevante, igual es que esta mal formulada…  \n",
    "   \n",
    "No sé si alguien se preguntara cual es la razón del nombre a parte de la inspiración con el “Necronomicón” de H.P. Lovecraft, y es que aquí voy a hablar de monstruos. Llámese Psicología Científica, Estadística o, algo mucho peor, el Mundo Real. Tengo escritos borradores para reflexionar sobre algunos monstruos que se esconden debajo de las camas de los estudiantes (no, la biología y la estadística no son monstruos).\n",
    "Me gustaría sobretodo escribir un blog tanto divulgativo como personal, escrito para gente curiosa y otros profesionales, pero no puedo evitar reconocer que parte de sus contenidos se verán marcados por cierto subjetivismo, a fin de cuentas, es mi blog.  \n",
    "  \n",
    "Espero que todo el que venga parta con un nuevo pedazo de saber o, al menos, un pedazo de saber sobre el que reflexionar.  \n",
    "  \n",
    "  En fin, El Pacto de Fausto a muerto, larga vida al Psiconomicón.  \n"
   ]
  }
 ],
 "metadata": {
  "kernelspec": {
   "display_name": "Python 3",
   "language": "python",
   "name": "python3"
  },
  "language_info": {
   "codemirror_mode": {
    "name": "ipython",
    "version": 3
   },
   "file_extension": ".py",
   "mimetype": "text/x-python",
   "name": "python",
   "nbconvert_exporter": "python",
   "pygments_lexer": "ipython3",
   "version": "3.7.7"
  }
 },
 "nbformat": 4,
 "nbformat_minor": 4
}
