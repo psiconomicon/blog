{
 "cells": [
  {
   "cell_type": "markdown",
   "metadata": {},
   "source": [
    "# Datanomics\n",
    "> Una recensión sobre Datanomics un libro sobre datos, privacidad y lo que se hace con ellos más allá del conocimiento (y consentimiento) del usuario.   \n",
    "\n",
    "- toc: true \n",
    "- badges: true\n",
    "- comments: true\n",
    "- categories: [psicología, privacidad, datos, libro]\n",
    "- image: images/chart-preview.png"
   ]
  },
  {
   "cell_type": "markdown",
   "metadata": {},
   "source": [
    "He leído Datanomics de @Paloma_Llaneza. Es como leer una __distopía__ en la que sientes el ojo del Gran Hermano estudiarte con inusitada parsimonia. Desnudo, no sólo sin ropa y vulnerable, sino a merced de un ojo que por mucho que te tapes tiene visión de rayos X. El típico argumento horror con toques de tecnología del estado del arte, y la cosa no mejora cuando aceptas que están hablando __del Mundo Real<sup>TM</sup>__, de aquellos productos que te acompañan en tu día a día.  "
   ]
  },
  {
   "cell_type": "markdown",
   "metadata": {},
   "source": [
    "Yo hasta cierto punto conocía el alcance de la información que se proporciona por el simple hecho de tener un teléfono móvil o navegar tranquilamente desde tu ordenador, pero el verlo diseccionado, con todo detalle y apoyado con datos, provoca escalofríos. __La suspicacia inicial__ cuando uno coge el libro, ese “¡Exagerada!”, __se pasa rápido__. Y a medida que pasan las páginas terminas mirando con desconfianza tu smartphone, casi jugando con la ridícula idea de ir buscado papel de Albal<sup>TM</sup> para el gorrito.  "
   ]
  },
  {
   "cell_type": "markdown",
   "metadata": {},
   "source": [
    "Chanzas a parte para quitarle hierro al asunto, es importante recordar que uno de los mayores problemas a los que nos enfrentamos es que dentro de las ventajas y desventajas que presenta este modelo de uso es que como usuarios somos perfectamente conscientes de como nos ‘facilitan la vida’ pero aquello que damos a cambio y a lo que ‘renunciamos’ son __conceptos abstractos y alejados de nuestra experiencia__ del día a día.  "
   ]
  },
  {
   "cell_type": "markdown",
   "metadata": {},
   "source": [
    "Una de las cosas que me gusta de como el libro aborda el tema es que hacen hincapié en la __diferencia entre el saber y el percibir__. Y es que, a la hora de tomar decisiones, muchas veces los heurísticos funcionan por como percibimos (nuestra estimación de) un riesgo por mucho que sepamos que el riesgo está ahí. Como decía antes, yo tenía bastante información sobre esto por que es un tema que me interesa, pero mi percepción de lo que pasaba se veía diluida por una suerte de “Ojos que no ven…”. Ciertamente es difícil hacerse a la idea cuando esta realidad está tan entrelazada con nuestro día a día y, a la par, se escapa de nuestra experiencia de usuario.  "
   ]
  },
  {
   "cell_type": "markdown",
   "metadata": {},
   "source": [
    "Datanomics nos recuerda que, aunque lo hayamos leído hasta la extenuación, \"cuando un servicio es gratis, el producto eres tú\" y que en resumidas cuentas es la versión moderna del “Nadie da duros a cuatro pesetas”. Y no es algo que vayas a hacer por ellos, es algo que __les vas a dar: tu identidad traducida a datos.__  "
   ]
  },
  {
   "cell_type": "markdown",
   "metadata": {},
   "source": [
    "Porque ahora, __lo que se vende__ en un periódico, redes sociales o una página web no son noticias, contacto con tus conocidos o contenidos, sino __vallas publicitarias.__  "
   ]
  },
  {
   "cell_type": "markdown",
   "metadata": {},
   "source": [
    "> twitter: https://twitter.com/Victoregb/status/1219268976825524235"
   ]
  },
  {
   "cell_type": "markdown",
   "metadata": {},
   "source": [
    "Este __cambio en el modelo de negocio__ hace que todo lo que vamos a ver va a estar enfocado para que nos quedemos más tiempo, para mostrarnos más publicidad y cuando más se ajusten esas publicidades a nuestro perfil mayor probabilidad de __que los usuarios cliquemos en los anuncios.__ Si, por eso empezamos a notar que las noticias están redactadas deprisa y corriendo, con titulares que rozan el clickbait descaradamente.  "
   ]
  },
  {
   "cell_type": "markdown",
   "metadata": {},
   "source": [
    "El saber como funcionan esas vallas publicitarias es también importante para comprender como se mantiene el sistema. Se trata básicamente una __subasta__ que tiene lugar en el breve espacio de tiempo, transcurre entre el momento que solicitas acceder una página (habitualmente que clicar en el encale) y en lo que la página se carga. Parecida a esas que salen en las películas con gente levantando paneles y un subastador desgañitándose, preguntando quien da más. En este caso, un bot que dice _‘Tenemos perfil de una joven de XX años, de clase Y, con Z intereses, ¿quien da más?’_ y bots de empresas (a fin de cuentas, algoritmos) van pujando __acorde al ajuste de dicho perfil__ a sus intereses.  "
   ]
  },
  {
   "cell_type": "markdown",
   "metadata": {},
   "source": [
    "En principio podríamos decir, ¿y que peligro tiene esto? Me muestran publicidad que me puede interesar. Y sí, bien usado no entraña demasiados problemas hasta que el objetivo de los anunciantes es ir más allá de “Cómprame el BMW”, “el juego de sartenes” o “un viaje a Bali para 2 personas ahora y llévate un 30% de descuento”. En el libro aportan datos y ponen algunos ejemplos muy interesantes de esto (por no decir de pesadilla). El que más me llamó la atención es __el caso del _‘Brexit’___. Aquí la publicidad también jugo un papel importante (como ya nos imaginábamos) como forma de transmitir propaganda tanto en contra como a favor. Lo que yo no sabía es cómo ésta había ayudado a decantar el voto. Y es que __el mensaje del _‘Leave’_ era mucho más barato, emocional y generaba una mayor interacción__ que el _‘Remain’_. "
   ]
  },
  {
   "cell_type": "markdown",
   "metadata": {},
   "source": [
    "La autora tampoco se olvida de la __tendencia a cuantificarlo todo__, nuestro peso, pulsaciones, sueño, deporte, etc… Son datos que generamos conscientemente para transformarlos en información y poder tomar decisiones informadas que redunden en nuestra calidad de vida. Esto no tiene porque tener nada malo. El problema llega cuando esto, que antaño se hacía con una báscula y una libreta, ahora __se guarda en la red de redes__, al alcance de mucha gente. En muchas ocasiones las empresas enfatizan que no emplearan dichos datos con fines publicitarios, pero que se reservan el derecho a compartirlos con terceros. Y nada sabemos de las intenciones o condicione de contrato de esos terceros. Sin saberlo podemos compartir, por culpa de la letra pequeña o un resquicio legal, nuestros datos de la aplicación de ejercicio físico con empresas como aseguradoras. ¿Nos interesa de verdad que nuestras aseguradoras sepan si hacemos ejercicio o nuestro estado emocional y que actúen al respecto?  "
   ]
  },
  {
   "cell_type": "markdown",
   "metadata": {},
   "source": [
    "__El caso del “Crédito social”__ para premiar a los buenos ciudadanos y castigar a los malos implantado en China es un buen ejemplo, explicado de forma bastante clara en el libro. __¿Pero quien decide quien o que es buen ciudadanos?__ ¿Nos queremos arriesgas a transformar nuestra sociedad a una con tintes de las pesadillas de Black Mirror?  "
   ]
  },
  {
   "cell_type": "markdown",
   "metadata": {},
   "source": [
    "Sin entrar en el peligro del robo de datos. Las medidas de seguridad son cada vez más estrictas, y si bien no es como si lo publicaras todo en el perfil o muro de tu red social favorita, pero con mucha facilidad olvidamos que ningún sistema es invulnerable.  "
   ]
  },
  {
   "cell_type": "markdown",
   "metadata": {},
   "source": [
    "Como psicólogo hay dos capitulo en el libro, _‘Adicction by design’_ y _‘Manipulation by default’_, que han sido especialmente de mi interés y a los que dedicaré una entrada en el futuro. "
   ]
  },
  {
   "cell_type": "markdown",
   "metadata": {},
   "source": [
    "Por último, si bien __es necesario saber sobre las vulnerabilidades y lo que se sacrifica__, también debemos tener en cuenta que ya existe una dependencia de estos servicios. Aunque nos espante que Facebook haga experimentos con el estado emocional de adolescentes, no es tan fácil abandonar la red social (ni esta ni las otras). En ocasiones, el activismo en pro de la privacidad cae en ocasiones en la misma falacia de los que están en contra de la compra de lotería, _\"la gente juega a la lotería de navidad para ganar el Gordo\"_ en lugar verlo como una forma de crear y mantener lazos sociales. Es el __profundo componente social, lo que muchas veces nos ata__ de forma invisible. Nuestros conocidos y familias están allí, y es difícil, tanto lograr que todo el mundo cambie de plataforma a la vez, como el ser los primeros y alejarnos de una forma de sentirnos conectados con ellos.  "
   ]
  },
  {
   "cell_type": "markdown",
   "metadata": {},
   "source": [
    "Lo que está claro es que no podemos estas de brazos cruzados. Pero, ¿y si pudiéramos mantener un equilibrio entre servicios y privacidad? Pero de eso hablaré en otro post. ¿Y vosotros que opináis? ¿Veis ahora de manera distinta las multas de la Unión Europea a Google o FaceBook? [¿Quien creéis que pierde con la nueva política de Facebook con Australia?](https://www.bbc.com/mundo/noticias-56119176) "
   ]
  }
 ],
 "metadata": {
  "kernelspec": {
   "display_name": "Python 3",
   "language": "python",
   "name": "python3"
  },
  "language_info": {
   "codemirror_mode": {
    "name": "ipython",
    "version": 3
   },
   "file_extension": ".py",
   "mimetype": "text/x-python",
   "name": "python",
   "nbconvert_exporter": "python",
   "pygments_lexer": "ipython3",
   "version": "3.8.8"
  }
 },
 "nbformat": 4,
 "nbformat_minor": 4
}
